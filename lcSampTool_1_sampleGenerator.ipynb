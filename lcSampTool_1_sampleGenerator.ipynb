{
 "cells": [
  {
   "cell_type": "markdown",
   "id": "82e0ed6e",
   "metadata": {},
   "source": [
    "# Aplikasi Sampling Penutup Lahan\n",
    "## Bagian 1. Proportional Sample Generator\n",
    "\n",
    "2021-08-06\n",
    "\n",
    "Kualitas sampel yang baik adalah salah satu kunci keberhasilan membangun model supervised classification. Untuk mendukung proses klasifikasi penutup lahan dengan supervised classification algorithm, berikut ini dikembangkan rangkaian proses pengumpulan titik sampel penutup lahan pada platform Jupyter.\n",
    "\n",
    "Bagian ini merupakan bagian pertama dari dua bagian aplikasi sampling penutup lahan. Bagian ini meliputi proses pembuatan titik sampel secara proporsional berdasarkan luasan region cluster. Region cluster dibangun dengan menggunakan pendekatan K-Means Clustering, dengan input enam saluran citra Landsat dan digital elevation model SRTM."
   ]
  },
  {
   "cell_type": "markdown",
   "id": "fa57cc39",
   "metadata": {},
   "source": [
    "## Preparation"
   ]
  },
  {
   "cell_type": "code",
   "execution_count": 1,
   "id": "1acf0dac",
   "metadata": {},
   "outputs": [],
   "source": [
    "# Import required packages\n",
    "import geemap\n",
    "import ee\n",
    "import pandas as pd"
   ]
  },
  {
   "cell_type": "code",
   "execution_count": 2,
   "id": "729ac45f",
   "metadata": {},
   "outputs": [
    {
     "data": {
      "text/html": [
       "<p>To authorize access needed by Earth Engine, open the following\n",
       "        URL in a web browser and follow the instructions:</p>\n",
       "        <p><a href=https://accounts.google.com/o/oauth2/auth?client_id=517222506229-vsmmajv00ul0bs7p89v5m89qs8eb9359.apps.googleusercontent.com&scope=https%3A%2F%2Fwww.googleapis.com%2Fauth%2Fearthengine+https%3A%2F%2Fwww.googleapis.com%2Fauth%2Fdevstorage.full_control&redirect_uri=urn%3Aietf%3Awg%3Aoauth%3A2.0%3Aoob&response_type=code&code_challenge=5Lxs0tXx1ejc8VbvOSh9rbHMzXGNXY3VcmJb_eD4OS0&code_challenge_method=S256>https://accounts.google.com/o/oauth2/auth?client_id=517222506229-vsmmajv00ul0bs7p89v5m89qs8eb9359.apps.googleusercontent.com&scope=https%3A%2F%2Fwww.googleapis.com%2Fauth%2Fearthengine+https%3A%2F%2Fwww.googleapis.com%2Fauth%2Fdevstorage.full_control&redirect_uri=urn%3Aietf%3Awg%3Aoauth%3A2.0%3Aoob&response_type=code&code_challenge=5Lxs0tXx1ejc8VbvOSh9rbHMzXGNXY3VcmJb_eD4OS0&code_challenge_method=S256</a></p>\n",
       "        <p>The authorization workflow will generate a code, which you\n",
       "        should paste in the box below</p>\n",
       "        "
      ],
      "text/plain": [
       "<IPython.core.display.HTML object>"
      ]
     },
     "metadata": {},
     "output_type": "display_data"
    },
    {
     "name": "stdout",
     "output_type": "stream",
     "text": [
      "Enter verification code: 4/1AX4XfWiqPQgfqZ2N0NjDMKutXuM0DldVwftmkT1B8QLbHrlz518_k6_dZTQ\n",
      "\n",
      "Successfully saved authorization token.\n"
     ]
    }
   ],
   "source": [
    "# Authorize EE Access\n",
    "ee.Authenticate()"
   ]
  },
  {
   "cell_type": "code",
   "execution_count": 3,
   "id": "92984603",
   "metadata": {},
   "outputs": [],
   "source": [
    "# Initialize EE account\n",
    "ee.Initialize()"
   ]
  },
  {
   "cell_type": "markdown",
   "id": "dee18859",
   "metadata": {},
   "source": [
    "## Dataset"
   ]
  },
  {
   "cell_type": "code",
   "execution_count": 4,
   "id": "a92b76ac",
   "metadata": {},
   "outputs": [],
   "source": [
    "# Define study area\n",
    "Borneo = ee.Geometry.Rectangle(108.028633, 7.370019, 119.507898, -5.101769)\n",
    "studyArea = Borneo"
   ]
  },
  {
   "cell_type": "code",
   "execution_count": 5,
   "id": "494633a2",
   "metadata": {},
   "outputs": [
    {
     "data": {
      "application/vnd.jupyter.widget-view+json": {
       "model_id": "89eb75f1287d472d8d95aba90b5dd5b6",
       "version_major": 2,
       "version_minor": 0
      },
      "text/plain": [
       "Map(center=[1.135209189203904, 113.76826550000001], controls=(WidgetControl(options=['position', 'transparent_…"
      ]
     },
     "metadata": {},
     "output_type": "display_data"
    }
   ],
   "source": [
    "# Layers\n",
    "img_landsat = ee.Image('users/kfaisal/LCMS_Borneo_2016/L8_Borneo_2016_int')\n",
    "img_srtm = ee.Image('USGS/SRTMGL1_003')\n",
    "img_stack = ee.Image([img_landsat, img_srtm]).clip(studyArea)\n",
    "\n",
    "# Add layers to map\n",
    "Map = geemap.Map()\n",
    "Map.addLayer(img_stack, {'bands': ['B5','B6','B7'], 'min': 40, 'max': 4000}, 'Landsat image')\n",
    "Map.centerObject(img_stack, 7)\n",
    "\n",
    "# Display map\n",
    "Map"
   ]
  },
  {
   "cell_type": "markdown",
   "id": "750260f3",
   "metadata": {},
   "source": [
    "## K-Means Clustering"
   ]
  },
  {
   "cell_type": "code",
   "execution_count": 6,
   "id": "bf2ea132",
   "metadata": {},
   "outputs": [
    {
     "data": {
      "text/html": [
       "<div>\n",
       "<style scoped>\n",
       "    .dataframe tbody tr th:only-of-type {\n",
       "        vertical-align: middle;\n",
       "    }\n",
       "\n",
       "    .dataframe tbody tr th {\n",
       "        vertical-align: top;\n",
       "    }\n",
       "\n",
       "    .dataframe thead th {\n",
       "        text-align: right;\n",
       "    }\n",
       "</style>\n",
       "<table border=\"1\" class=\"dataframe\">\n",
       "  <thead>\n",
       "    <tr style=\"text-align: right;\">\n",
       "      <th></th>\n",
       "      <th>B2</th>\n",
       "      <th>B3</th>\n",
       "      <th>B4</th>\n",
       "      <th>B5</th>\n",
       "      <th>B6</th>\n",
       "      <th>B7</th>\n",
       "      <th>elevation</th>\n",
       "    </tr>\n",
       "  </thead>\n",
       "  <tbody>\n",
       "    <tr>\n",
       "      <th>0</th>\n",
       "      <td>129</td>\n",
       "      <td>320</td>\n",
       "      <td>180</td>\n",
       "      <td>2951</td>\n",
       "      <td>1008</td>\n",
       "      <td>362</td>\n",
       "      <td>30</td>\n",
       "    </tr>\n",
       "    <tr>\n",
       "      <th>1</th>\n",
       "      <td>165</td>\n",
       "      <td>371</td>\n",
       "      <td>203</td>\n",
       "      <td>2957</td>\n",
       "      <td>1173</td>\n",
       "      <td>430</td>\n",
       "      <td>75</td>\n",
       "    </tr>\n",
       "    <tr>\n",
       "      <th>2</th>\n",
       "      <td>239</td>\n",
       "      <td>540</td>\n",
       "      <td>304</td>\n",
       "      <td>4199</td>\n",
       "      <td>1560</td>\n",
       "      <td>560</td>\n",
       "      <td>49</td>\n",
       "    </tr>\n",
       "    <tr>\n",
       "      <th>3</th>\n",
       "      <td>586</td>\n",
       "      <td>770</td>\n",
       "      <td>827</td>\n",
       "      <td>2054</td>\n",
       "      <td>2057</td>\n",
       "      <td>1281</td>\n",
       "      <td>4</td>\n",
       "    </tr>\n",
       "    <tr>\n",
       "      <th>4</th>\n",
       "      <td>177</td>\n",
       "      <td>362</td>\n",
       "      <td>248</td>\n",
       "      <td>3185</td>\n",
       "      <td>1176</td>\n",
       "      <td>469</td>\n",
       "      <td>969</td>\n",
       "    </tr>\n",
       "  </tbody>\n",
       "</table>\n",
       "</div>"
      ],
      "text/plain": [
       "    B2   B3   B4    B5    B6    B7  elevation\n",
       "0  129  320  180  2951  1008   362         30\n",
       "1  165  371  203  2957  1173   430         75\n",
       "2  239  540  304  4199  1560   560         49\n",
       "3  586  770  827  2054  2057  1281          4\n",
       "4  177  362  248  3185  1176   469        969"
      ]
     },
     "execution_count": 6,
     "metadata": {},
     "output_type": "execute_result"
    }
   ],
   "source": [
    "# Generate 10000 random samples and extract image values\n",
    "## Sampling\n",
    "randSamp = ee.FeatureCollection.randomPoints(\n",
    "    region = studyArea,\n",
    "    points = 10000\n",
    ")\n",
    "## Image sampling\n",
    "imgSamp = img_stack.sampleRegions(\n",
    "    collection = randSamp,\n",
    "    scale = 30\n",
    ")\n",
    "## Convert sample features to pandas dataframe\n",
    "imgSamp_pd = geemap.ee_to_pandas(imgSamp)\n",
    "### showing 5 top rows of samples dataframe\n",
    "imgSamp_pd.head(5)"
   ]
  },
  {
   "cell_type": "markdown",
   "id": "83d0d3a1",
   "metadata": {},
   "source": [
    "### Optional: Find optimal k number using Elbow Method"
   ]
  },
  {
   "cell_type": "code",
   "execution_count": 7,
   "id": "c00650b6",
   "metadata": {},
   "outputs": [
    {
     "data": {
      "image/png": "[encoded data removed]",
      "text/plain": [
       "<Figure size 432x288 with 1 Axes>"
      ]
     },
     "metadata": {
      "needs_background": "light"
     },
     "output_type": "display_data"
    }
   ],
   "source": [
    "# Find optimum number of K-Means Cluster using Elbow Method\n",
    "# (https://blog.cambridgespark.com/how-to-determine-the-optimal-number-of-clusters-for-k-means-clustering-14f27070048f)\n",
    "from sklearn.cluster import KMeans\n",
    "import matplotlib.pyplot as plt\n",
    "\n",
    "Sum_of_squared_distances = []\n",
    "K = range(1,25)\n",
    "for k in K:\n",
    "    km = KMeans(n_clusters=k)\n",
    "    km = km.fit(imgSamp_pd)\n",
    "    Sum_of_squared_distances.append(km.inertia_)\n",
    "\n",
    "plt.plot(K, Sum_of_squared_distances, 'bx-')\n",
    "plt.xlabel('k')\n",
    "plt.ylabel('Sum_of_squared_distances')\n",
    "plt.title('Elbow Method For Optimal k')\n",
    "plt.show()"
   ]
  },
  {
   "cell_type": "code",
   "execution_count": 8,
   "id": "13c2b8b0",
   "metadata": {},
   "outputs": [],
   "source": [
    "# Define number of clusters\n",
    "numClust = 15"
   ]
  },
  {
   "cell_type": "code",
   "execution_count": 9,
   "id": "8130fd6a",
   "metadata": {},
   "outputs": [
    {
     "data": {
      "application/vnd.jupyter.widget-view+json": {
       "model_id": "89eb75f1287d472d8d95aba90b5dd5b6",
       "version_major": 2,
       "version_minor": 0
      },
      "text/plain": [
       "Map(bottom=16581.0, center=[1.135209189203904, 113.76826550000001], controls=(WidgetControl(options=['position…"
      ]
     },
     "metadata": {},
     "output_type": "display_data"
    }
   ],
   "source": [
    "# Run k-means clustering\n",
    "kmeans = ee.Clusterer.wekaKMeans(numClust).train(imgSamp)\n",
    "cluster_k = img_stack.cluster(kmeans).rename('cluster')\n",
    "Map.addLayer(cluster_k.randomVisualizer(), {}, 'Cluster image')\n",
    "Map"
   ]
  },
  {
   "cell_type": "markdown",
   "id": "4e7470b4",
   "metadata": {},
   "source": [
    "## Generate proportionally stratified random samples"
   ]
  },
  {
   "cell_type": "code",
   "execution_count": 10,
   "id": "676fec0b",
   "metadata": {},
   "outputs": [],
   "source": [
    "# Number of output point samples\n",
    "numSamples = 1000"
   ]
  },
  {
   "cell_type": "code",
   "execution_count": 11,
   "id": "673cad81",
   "metadata": {},
   "outputs": [
    {
     "name": "stdout",
     "output_type": "stream",
     "text": [
      "Number of proportionally points each cluster: [94, 45, 21, 50, 72, 157, 189, 8, 141, 31, 30, 56, 43, 48, 16]\n"
     ]
    }
   ],
   "source": [
    "# Proportional random sampling\n",
    "areaImage = ee.Image.pixelArea().addBands(cluster_k)\n",
    "\n",
    "# Calculate per-cluster area\n",
    "areas = areaImage.reduceRegion(\n",
    "    reducer = ee.Reducer.sum().group(\n",
    "        groupField = 1,\n",
    "        groupName = 'cluster'),\n",
    "    geometry = studyArea,\n",
    "    scale = 100,\n",
    "    maxPixels = 1e13)\n",
    "classAreas = ee.List(areas.get('groups'))\n",
    "\n",
    "# List of cluster\n",
    "def classnum(item):\n",
    "    areaDict = ee.Dictionary(item)\n",
    "    classNumber = ee.Number(areaDict.get('cluster'))\n",
    "    return classNumber\n",
    "classNumLists = classAreas.map(classnum)\n",
    "numValues = ee.Array(classNumLists).round().int().toList()\n",
    "# print('List of clusters:', numValues.getInfo())\n",
    "\n",
    "# List of per-class area\n",
    "def classarea(item):\n",
    "    areaDict = ee.Dictionary(item)\n",
    "    area = ee.Number(areaDict.get('sum')).divide(1e4).round()\n",
    "    return area\n",
    "classAreaLists = classAreas.map(classarea)\n",
    "totalArea = ee.Number(classAreaLists.reduce(ee.Reducer.sum()))\n",
    "# print('Total area of study area in ha: ', totalArea.getInfo())\n",
    "\n",
    "# Generate number of points proportionally\n",
    "numPoints = ee.Array(classAreaLists).divide(totalArea).multiply(numSamples).round().int().toList()\n",
    "print('Number of proportionally points each cluster:', numPoints.getInfo())\n",
    "\n",
    "# Generate proportional sample points\n",
    "stratified = cluster_k.stratifiedSample(\n",
    "  numPoints = numSamples,\n",
    "  classBand = 'cluster',\n",
    "  classValues = numValues,\n",
    "  classPoints = numPoints,\n",
    "  scale = 100,\n",
    "  region = studyArea,\n",
    "  geometries = True)"
   ]
  },
  {
   "cell_type": "markdown",
   "id": "df458f74",
   "metadata": {},
   "source": [
    "## Export to Drive"
   ]
  },
  {
   "cell_type": "code",
   "execution_count": 12,
   "id": "44fe31ee",
   "metadata": {},
   "outputs": [],
   "source": [
    "folderName = 'LCMS_samples'\n",
    "exportName = 'Borneo_2016'"
   ]
  },
  {
   "cell_type": "code",
   "execution_count": 16,
   "id": "8e314819",
   "metadata": {},
   "outputs": [],
   "source": [
    "# Export samples to Drive\n",
    "from datetime import date\n",
    "today = date.today()\n",
    "todaydate = today.strftime(\"%b-%d-%Y\")\n",
    "\n",
    "exportTask = ee.batch.Export.table.toDrive(\n",
    "    collection = stratified,\n",
    "    description = todaydate + '_' + exportName + '_stratifiedsamples_' + str(numClust) + '_' + str(numSamples),\n",
    "    folder = folderName,\n",
    "    fileFormat = 'CSV')\n",
    "exportTask.start()"
   ]
  },
  {
   "cell_type": "code",
   "execution_count": 15,
   "id": "fcf29474",
   "metadata": {},
   "outputs": [
    {
     "data": {
      "text/plain": [
       "{'state': 'READY',\n",
       " 'description': 'Aug-06-2021_Borneo_2016_stratifiedsamples_15_1000',\n",
       " 'creation_timestamp_ms': 1628239803365,\n",
       " 'update_timestamp_ms': 1628239803365,\n",
       " 'start_timestamp_ms': 0,\n",
       " 'task_type': 'EXPORT_FEATURES',\n",
       " 'id': 'P5YKS2YWAZYGLAJWXQPOUYIG',\n",
       " 'name': 'projects/earthengine-legacy/operations/P5YKS2YWAZYGLAJWXQPOUYIG'}"
      ]
     },
     "execution_count": 15,
     "metadata": {},
     "output_type": "execute_result"
    }
   ],
   "source": [
    "exportTask.status()"
   ]
  },
  {
   "cell_type": "code",
   "execution_count": null,
   "id": "5b2d53c1",
   "metadata": {},
   "outputs": [],
   "source": []
  }
 ],
 "metadata": {
  "kernelspec": {
   "display_name": "Python 3 (ipykernel)",
   "language": "python",
   "name": "python3"
  },
  "language_info": {
   "codemirror_mode": {
    "name": "ipython",
    "version": 3
   },
   "file_extension": ".py",
   "mimetype": "text/x-python",
   "name": "python",
   "nbconvert_exporter": "python",
   "pygments_lexer": "ipython3",
   "version": "3.8.11"
  }
 },
 "nbformat": 4,
 "nbformat_minor": 5
}
