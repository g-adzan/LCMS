{
 "cells": [
  {
   "cell_type": "markdown",
   "id": "ed6bd805",
   "metadata": {},
   "source": [
    "# Aplikasi Sampling Penutup Lahan\n",
    "## Bagian 2. Sampling tool\n",
    "\n",
    "2021-08-08\n",
    "\n",
    "Tool untuk assign class pada setiap titik sampel."
   ]
  },
  {
   "cell_type": "markdown",
   "id": "de7b46db",
   "metadata": {},
   "source": [
    "### Packages"
   ]
  },
  {
   "cell_type": "code",
   "execution_count": 2,
   "id": "ae4069c2",
   "metadata": {},
   "outputs": [],
   "source": [
    "import geopandas as gpd\n",
    "from ipywidgets import widgets, interact, interactive, fixed, interact_manual\n",
    "from IPython.display import display\n",
    "import ee\n",
    "import geemap\n",
    "import numpy as np"
   ]
  },
  {
   "cell_type": "code",
   "execution_count": 3,
   "id": "6c63b33c",
   "metadata": {},
   "outputs": [],
   "source": [
    "ee.Initialize()"
   ]
  },
  {
   "cell_type": "markdown",
   "id": "3a2531e8",
   "metadata": {},
   "source": [
    "### Dataset"
   ]
  },
  {
   "cell_type": "code",
   "execution_count": 4,
   "id": "574f79b2",
   "metadata": {},
   "outputs": [],
   "source": [
    "# read generated random samples shapefiles downloaded from Google Drive\n",
    "randsamp = gpd.read_file('samples/Aug-06-2021_Borneo_2016_stratifiedsamples_15_1000.shp')\n",
    "\n",
    "# create ID column\n",
    "randsamp['ID'] = np.arange(len(randsamp))\n",
    "\n",
    "# landsat image as background\n",
    "landsat = ee.Image('users/kfaisal/LCMS_Borneo_2016/L8_Borneo_2016_int')"
   ]
  },
  {
   "cell_type": "markdown",
   "id": "ef6899f6",
   "metadata": {},
   "source": [
    "### Sampling tool"
   ]
  },
  {
   "cell_type": "code",
   "execution_count": 5,
   "id": "1187f85b",
   "metadata": {},
   "outputs": [
    {
     "data": {
      "application/vnd.jupyter.widget-view+json": {
       "model_id": "82600c5cf26746039303bc34601d864e",
       "version_major": 2,
       "version_minor": 0
      },
      "text/plain": [
       "interactive(children=(BoundedIntText(value=0, description='ID', max=1000), Select(description='Class', options…"
      ]
     },
     "metadata": {},
     "output_type": "display_data"
    },
    {
     "data": {
      "text/plain": [
       "<function __main__.query(ID, Class, randsamp)>"
      ]
     },
     "execution_count": 5,
     "metadata": {},
     "output_type": "execute_result"
    }
   ],
   "source": [
    "# Create widgets\n",
    "fill_id = widgets.BoundedIntText(0,0,1000,1)\n",
    "selection_fnf = widgets.Select(options = ['Forest', 'Non-forest'])\n",
    "\n",
    "def query(ID, Class, randsamp):\n",
    "    randsamp.loc[randsamp['ID'] == ID, 'Class'] = Class\n",
    "    sel_randsamp = randsamp[randsamp['ID'] == ID]\n",
    "    \n",
    "    # convert geodtaframe to ee object\n",
    "    ee_randsamp = geemap.geopandas_to_ee(sel_randsamp)\n",
    "    \n",
    "    # display map\n",
    "    Map = geemap.Map()\n",
    "    # add Landsat layer to map\n",
    "    Map.addLayer(landsat, {'bands': ['B5','B6','B7'],\n",
    "                           'min': 40,\n",
    "                           'max': 4000},\n",
    "                'Landsat image')\n",
    "    Map.addLayer(ee_randsamp)\n",
    "    Map.centerObject(ee_randsamp, 10)\n",
    "    \n",
    "    # print selected object\n",
    "    print(sel_randsamp)\n",
    "    return Map\n",
    "\n",
    "interact(query, ID = fill_id, Class = selection_fnf, randsamp = fixed(randsamp))"
   ]
  },
  {
   "cell_type": "markdown",
   "id": "f6813c6b",
   "metadata": {},
   "source": [
    "### Check results"
   ]
  },
  {
   "cell_type": "code",
   "execution_count": 7,
   "id": "015dd0e5",
   "metadata": {
    "scrolled": true
   },
   "outputs": [
    {
     "data": {
      "text/html": [
       "<div>\n",
       "<style scoped>\n",
       "    .dataframe tbody tr th:only-of-type {\n",
       "        vertical-align: middle;\n",
       "    }\n",
       "\n",
       "    .dataframe tbody tr th {\n",
       "        vertical-align: top;\n",
       "    }\n",
       "\n",
       "    .dataframe thead th {\n",
       "        text-align: right;\n",
       "    }\n",
       "</style>\n",
       "<table border=\"1\" class=\"dataframe\">\n",
       "  <thead>\n",
       "    <tr style=\"text-align: right;\">\n",
       "      <th></th>\n",
       "      <th>cluster</th>\n",
       "      <th>geometry</th>\n",
       "      <th>ID</th>\n",
       "      <th>Class</th>\n",
       "    </tr>\n",
       "  </thead>\n",
       "  <tbody>\n",
       "    <tr>\n",
       "      <th>0</th>\n",
       "      <td>0</td>\n",
       "      <td>POINT (117.46847 2.50962)</td>\n",
       "      <td>0</td>\n",
       "      <td>Forest</td>\n",
       "    </tr>\n",
       "    <tr>\n",
       "      <th>1</th>\n",
       "      <td>0</td>\n",
       "      <td>POINT (116.71568 6.11366)</td>\n",
       "      <td>1</td>\n",
       "      <td>Forest</td>\n",
       "    </tr>\n",
       "    <tr>\n",
       "      <th>2</th>\n",
       "      <td>0</td>\n",
       "      <td>POINT (117.05075 4.67546)</td>\n",
       "      <td>2</td>\n",
       "      <td>Forest</td>\n",
       "    </tr>\n",
       "    <tr>\n",
       "      <th>3</th>\n",
       "      <td>0</td>\n",
       "      <td>POINT (116.12279 3.72864)</td>\n",
       "      <td>3</td>\n",
       "      <td>Forest</td>\n",
       "    </tr>\n",
       "    <tr>\n",
       "      <th>4</th>\n",
       "      <td>0</td>\n",
       "      <td>POINT (114.69716 3.53730)</td>\n",
       "      <td>4</td>\n",
       "      <td>Non-forest</td>\n",
       "    </tr>\n",
       "  </tbody>\n",
       "</table>\n",
       "</div>"
      ],
      "text/plain": [
       "   cluster                   geometry  ID       Class\n",
       "0        0  POINT (117.46847 2.50962)   0      Forest\n",
       "1        0  POINT (116.71568 6.11366)   1      Forest\n",
       "2        0  POINT (117.05075 4.67546)   2      Forest\n",
       "3        0  POINT (116.12279 3.72864)   3      Forest\n",
       "4        0  POINT (114.69716 3.53730)   4  Non-forest"
      ]
     },
     "execution_count": 7,
     "metadata": {},
     "output_type": "execute_result"
    }
   ],
   "source": [
    "randsamp.head()"
   ]
  },
  {
   "cell_type": "markdown",
   "id": "04b7cf8e",
   "metadata": {},
   "source": [
    "### Export results"
   ]
  },
  {
   "cell_type": "code",
   "execution_count": 22,
   "id": "360274a3",
   "metadata": {},
   "outputs": [],
   "source": [
    "# Export to Asset, later used as machine-learning classification input in GEE\n",
    "from datetime import date\n",
    "today = date.today()\n",
    "todaydate = today.strftime(\"%b-%d-%Y\")\n",
    "\n",
    "# define output file name\n",
    "exportName = 'Borneo'\n",
    "\n",
    "# Convert geodataframe to ee object\n",
    "ee_export = geemap.geopandas_to_ee(randsamp)\n",
    "\n",
    "exportTask = ee.batch.Export.table.toAsset(\n",
    "    collection = ee_export,\n",
    "    description = todaydate + '_' + exportName + '_forestCoverSamples',\n",
    "    assetId = 'users/gemasaktiadzan/2021-08-08_Borneo_forestCoverSamples')\n",
    "exportTask.start()"
   ]
  },
  {
   "cell_type": "code",
   "execution_count": null,
   "id": "71d4b6b1",
   "metadata": {},
   "outputs": [],
   "source": []
  }
 ],
 "metadata": {
  "kernelspec": {
   "display_name": "Python 3 (ipykernel)",
   "language": "python",
   "name": "python3"
  },
  "language_info": {
   "codemirror_mode": {
    "name": "ipython",
    "version": 3
   },
   "file_extension": ".py",
   "mimetype": "text/x-python",
   "name": "python",
   "nbconvert_exporter": "python",
   "pygments_lexer": "ipython3",
   "version": "3.8.11"
  }
 },
 "nbformat": 4,
 "nbformat_minor": 5
}
