{
 "cells": [
  {
   "cell_type": "code",
   "execution_count": null,
   "id": "4f0efd59",
   "metadata": {},
   "outputs": [],
   "source": [
    "#!pip install geodemo"
   ]
  },
  {
   "cell_type": "code",
   "execution_count": 77,
   "id": "19600aff",
   "metadata": {},
   "outputs": [],
   "source": [
    "import ee\n",
    "import geodemo\n",
    "import ipywidgets as widgets\n",
    "from ipyleaflet import WidgetControl\n",
    "import ipyleaflet\n",
    "import geopandas\n",
    "import numpy\n",
    "import geemap"
   ]
  },
  {
   "cell_type": "code",
   "execution_count": 90,
   "id": "96ef6f6c",
   "metadata": {},
   "outputs": [
    {
     "data": {
      "application/vnd.jupyter.widget-view+json": {
       "model_id": "0b13bf5e82314e299c396b1906f4706f",
       "version_major": 2,
       "version_minor": 0
      },
      "text/plain": [
       "Map(center=[0, 115], controls=(WidgetControl(options=['position', 'transparent_bg'], widget=HBox(children=(Tog…"
      ]
     },
     "metadata": {},
     "output_type": "display_data"
    }
   ],
   "source": [
    "Map = geemap.Map(center = (0, 115), zoom = 5)\n",
    "Map"
   ]
  },
  {
   "cell_type": "code",
   "execution_count": 51,
   "id": "ed776656",
   "metadata": {},
   "outputs": [
    {
     "data": {
      "text/html": [
       "<div>\n",
       "<style scoped>\n",
       "    .dataframe tbody tr th:only-of-type {\n",
       "        vertical-align: middle;\n",
       "    }\n",
       "\n",
       "    .dataframe tbody tr th {\n",
       "        vertical-align: top;\n",
       "    }\n",
       "\n",
       "    .dataframe thead th {\n",
       "        text-align: right;\n",
       "    }\n",
       "</style>\n",
       "<table border=\"1\" class=\"dataframe\">\n",
       "  <thead>\n",
       "    <tr style=\"text-align: right;\">\n",
       "      <th></th>\n",
       "      <th>cluster</th>\n",
       "      <th>geometry</th>\n",
       "      <th>ID</th>\n",
       "      <th>Lat</th>\n",
       "      <th>Lon</th>\n",
       "      <th>Class</th>\n",
       "    </tr>\n",
       "  </thead>\n",
       "  <tbody>\n",
       "    <tr>\n",
       "      <th>0</th>\n",
       "      <td>0</td>\n",
       "      <td>POINT (117.46847 2.50962)</td>\n",
       "      <td>0</td>\n",
       "      <td>2.509623</td>\n",
       "      <td>117.468468</td>\n",
       "      <td>None</td>\n",
       "    </tr>\n",
       "    <tr>\n",
       "      <th>1</th>\n",
       "      <td>0</td>\n",
       "      <td>POINT (116.71568 6.11366)</td>\n",
       "      <td>1</td>\n",
       "      <td>6.113664</td>\n",
       "      <td>116.715679</td>\n",
       "      <td>None</td>\n",
       "    </tr>\n",
       "    <tr>\n",
       "      <th>2</th>\n",
       "      <td>0</td>\n",
       "      <td>POINT (117.05075 4.67546)</td>\n",
       "      <td>2</td>\n",
       "      <td>4.675462</td>\n",
       "      <td>117.050751</td>\n",
       "      <td>None</td>\n",
       "    </tr>\n",
       "    <tr>\n",
       "      <th>3</th>\n",
       "      <td>0</td>\n",
       "      <td>POINT (116.12279 3.72864)</td>\n",
       "      <td>3</td>\n",
       "      <td>3.728637</td>\n",
       "      <td>116.122791</td>\n",
       "      <td>None</td>\n",
       "    </tr>\n",
       "    <tr>\n",
       "      <th>4</th>\n",
       "      <td>0</td>\n",
       "      <td>POINT (114.69716 3.53730)</td>\n",
       "      <td>4</td>\n",
       "      <td>3.537296</td>\n",
       "      <td>114.697165</td>\n",
       "      <td>None</td>\n",
       "    </tr>\n",
       "  </tbody>\n",
       "</table>\n",
       "</div>"
      ],
      "text/plain": [
       "   cluster                   geometry  ID       Lat         Lon Class\n",
       "0        0  POINT (117.46847 2.50962)   0  2.509623  117.468468  None\n",
       "1        0  POINT (116.71568 6.11366)   1  6.113664  116.715679  None\n",
       "2        0  POINT (117.05075 4.67546)   2  4.675462  117.050751  None\n",
       "3        0  POINT (116.12279 3.72864)   3  3.728637  116.122791  None\n",
       "4        0  POINT (114.69716 3.53730)   4  3.537296  114.697165  None"
      ]
     },
     "execution_count": 51,
     "metadata": {},
     "output_type": "execute_result"
    }
   ],
   "source": [
    "random_samp = geopandas.read_file('./samples/Aug-06-2021_Borneo_2016_stratifiedsamples_15_1000.shp')\n",
    "random_samp['ID'] = numpy.arange(len(random_samp))\n",
    "random_samp['Lat'] = random_samp['geometry'].y\n",
    "random_samp['Lon'] = random_samp['geometry'].x\n",
    "random_samp['Class'] = None\n",
    "random_samp.head()"
   ]
  },
  {
   "cell_type": "code",
   "execution_count": 52,
   "id": "56bdc734",
   "metadata": {},
   "outputs": [
    {
     "data": {
      "application/vnd.jupyter.widget-view+json": {
       "model_id": "dda25e9a274a437ea1222b5c46f8ace7",
       "version_major": 2,
       "version_minor": 0
      },
      "text/plain": [
       "Dropdown(description='Class name: ', options=('Forest', 'Non-forest'), value=None)"
      ]
     },
     "metadata": {},
     "output_type": "display_data"
    }
   ],
   "source": [
    "# selection widget\n",
    "dropdown = widgets.Dropdown(\n",
    "    options = ['Forest', 'Non-forest'],\n",
    "    value = None,\n",
    "    description = 'Class name: '\n",
    ")\n",
    "dropdown"
   ]
  },
  {
   "cell_type": "code",
   "execution_count": 53,
   "id": "f3031c9a",
   "metadata": {},
   "outputs": [
    {
     "data": {
      "application/vnd.jupyter.widget-view+json": {
       "model_id": "9fd4b4bd167741798d5f80e7ad22a44b",
       "version_major": 2,
       "version_minor": 0
      },
      "text/plain": [
       "ToggleButton(value=False, button_style='success', description='Assign class', icon='check', tooltip='Assign la…"
      ]
     },
     "metadata": {},
     "output_type": "display_data"
    }
   ],
   "source": [
    "# toggle button\n",
    "assign_button = widgets.ToggleButton(\n",
    "    value=False,\n",
    "    description='Assign class',\n",
    "    disabled=False,\n",
    "    button_style='success', # 'success', 'info', 'warning', 'danger' or ''\n",
    "    tooltip='Assign land cover class name',\n",
    "    icon='check' # (FontAwesome names without the `fa-` prefix)\n",
    ")\n",
    "assign_button"
   ]
  },
  {
   "cell_type": "code",
   "execution_count": 54,
   "id": "3b280c34",
   "metadata": {},
   "outputs": [
    {
     "data": {
      "application/vnd.jupyter.widget-view+json": {
       "model_id": "38559439ea0043cebdadef4fffdf9708",
       "version_major": 2,
       "version_minor": 0
      },
      "text/plain": [
       "Button(button_style='info', description='Next feature', icon='toggle-right', style=ButtonStyle(), tooltip='Nex…"
      ]
     },
     "metadata": {},
     "output_type": "display_data"
    }
   ],
   "source": [
    "# next button\n",
    "nextButton = widgets.Button(\n",
    "    description='Next feature',\n",
    "    button_style='info', # 'success', 'info', 'warning', 'danger' or ''\n",
    "    tooltip='Next feature',\n",
    "    icon='toggle-right' # (FontAwesome names without the `fa-` prefix)\n",
    ")\n",
    "nextButton"
   ]
  },
  {
   "cell_type": "code",
   "execution_count": 55,
   "id": "be5e3756",
   "metadata": {},
   "outputs": [
    {
     "data": {
      "application/vnd.jupyter.widget-view+json": {
       "model_id": "39f42671fcc14d1593bb8345620652e5",
       "version_major": 2,
       "version_minor": 0
      },
      "text/plain": [
       "Button(button_style='info', description='Previous feature', icon='toggle-left', style=ButtonStyle(), tooltip='…"
      ]
     },
     "metadata": {},
     "output_type": "display_data"
    }
   ],
   "source": [
    "# prev button\n",
    "prevButton = widgets.Button(\n",
    "    description='Previous feature',\n",
    "    button_style='info', # 'success', 'info', 'warning', 'danger' or ''\n",
    "    tooltip='Previous feature',\n",
    "    icon='toggle-left' # (FontAwesome names without the `fa-` prefix)\n",
    ")\n",
    "prevButton"
   ]
  },
  {
   "cell_type": "code",
   "execution_count": 85,
   "id": "f0ae1bbf",
   "metadata": {},
   "outputs": [
    {
     "data": {
      "application/vnd.jupyter.widget-view+json": {
       "model_id": "1d66411671c1475088ff67fc5d216cb0",
       "version_major": 2,
       "version_minor": 0
      },
      "text/plain": [
       "ToggleButton(value=False, button_style='success', description='Save edit', icon='check-square', tooltip='Save …"
      ]
     },
     "metadata": {},
     "output_type": "display_data"
    }
   ],
   "source": [
    "# toggle button for update to dataframe\n",
    "save_button = widgets.ToggleButton(\n",
    "    value=False,\n",
    "    description='Save edit',\n",
    "    disabled=False,\n",
    "    button_style='success', # 'success', 'info', 'warning', 'danger' or ''\n",
    "    tooltip='Save editing',\n",
    "    icon='check-square' # (FontAwesome names without the `fa-` prefix)\n",
    ")\n",
    "save_button"
   ]
  },
  {
   "cell_type": "code",
   "execution_count": 86,
   "id": "aaacd2de",
   "metadata": {},
   "outputs": [
    {
     "data": {
      "application/vnd.jupyter.widget-view+json": {
       "model_id": "229a3671e7a948cdad10e3678225780e",
       "version_major": 2,
       "version_minor": 0
      },
      "text/plain": [
       "Output(layout=Layout(padding='0px 0px 0px 4px', width='250px'))"
      ]
     },
     "metadata": {},
     "output_type": "display_data"
    }
   ],
   "source": [
    "output = widgets.Output(layout=widgets.Layout(width=widget_width, padding=padding))\n",
    "with output:\n",
    "    output.clear_output()\n",
    "    print(\"Running ...\")\n",
    "output"
   ]
  },
  {
   "cell_type": "code",
   "execution_count": 87,
   "id": "384c3d96",
   "metadata": {},
   "outputs": [
    {
     "data": {
      "application/vnd.jupyter.widget-view+json": {
       "model_id": "c8b160b93a3148d79e3fd96b81383a3d",
       "version_major": 2,
       "version_minor": 0
      },
      "text/plain": [
       "VBox(children=(HBox(children=(Button(button_style='info', description='Previous feature', icon='toggle-left', …"
      ]
     },
     "metadata": {},
     "output_type": "display_data"
    }
   ],
   "source": [
    "sampling_widget = widgets.VBox()\n",
    "sampling_widget.children = [\n",
    "    widgets.HBox([prevButton, nextButton]),\n",
    "    widgets.HBox([dropdown]),\n",
    "    widgets.HBox([assign_button, save_button])\n",
    "]\n",
    "sampling_widget"
   ]
  },
  {
   "cell_type": "code",
   "execution_count": 91,
   "id": "4cfce796",
   "metadata": {},
   "outputs": [],
   "source": [
    "sampling_ctrl = WidgetControl(widget = sampling_widget, position = \"bottomright\")\n",
    "Map.add_control(sampling_ctrl)"
   ]
  },
  {
   "cell_type": "code",
   "execution_count": 97,
   "id": "8b6f139c",
   "metadata": {},
   "outputs": [],
   "source": [
    "landsat = ee.Image('users/kfaisal/LCMS_Borneo_2016/L8_Borneo_2016_int')\n",
    "Map.addLayer(landsat, {'bands': ['B5','B6','B7'],\n",
    "                        'min': 40,\n",
    "                        'max': 4000},\n",
    "                        'Landsat image')\n",
    "ee_samp = geemap.geopandas_to_ee(random_samp)\n",
    "Map.addLayer(ee_samp, {}, 'Sample')"
   ]
  },
  {
   "cell_type": "code",
   "execution_count": 98,
   "id": "7a917cf6",
   "metadata": {},
   "outputs": [
    {
     "data": {
      "application/vnd.jupyter.widget-view+json": {
       "model_id": "0b13bf5e82314e299c396b1906f4706f",
       "version_major": 2,
       "version_minor": 0
      },
      "text/plain": [
       "Map(bottom=16686.0, center=[-0.021972655711419903, 113.80737304687501], controls=(WidgetControl(options=['posi…"
      ]
     },
     "metadata": {},
     "output_type": "display_data"
    }
   ],
   "source": [
    "Map"
   ]
  },
  {
   "cell_type": "code",
   "execution_count": 99,
   "id": "580f3309",
   "metadata": {},
   "outputs": [],
   "source": [
    "geemap.Map.addLayer?"
   ]
  }
 ],
 "metadata": {
  "kernelspec": {
   "display_name": "Python 3 (ipykernel)",
   "language": "python",
   "name": "python3"
  },
  "language_info": {
   "codemirror_mode": {
    "name": "ipython",
    "version": 3
   },
   "file_extension": ".py",
   "mimetype": "text/x-python",
   "name": "python",
   "nbconvert_exporter": "python",
   "pygments_lexer": "ipython3",
   "version": "3.8.11"
  }
 },
 "nbformat": 4,
 "nbformat_minor": 5
}
