{
 "cells": [
  {
   "cell_type": "markdown",
   "id": "429ef770",
   "metadata": {},
   "source": [
    "# LCMS Validation Tool\n",
    "Date: 2021-08-23\n",
    "\n",
    "Lorem ipsum dolor sit amet, consectetur adipiscing elit. Praesent pulvinar, tellus fringilla faucibus semper, mauris leo tincidunt erat, sed sagittis turpis quam vel eros. Curabitur facilisis urna eu est feugiat convallis. Donec vel mi venenatis, congue purus a, efficitur felis. Maecenas malesuada felis sed justo varius fermentum. Aliquam ex quam, consequat tempus ipsum eget, auctor efficitur nibh. Integer sed tempus dolor. Sed consectetur erat felis, id tristique leo pharetra et. Nulla feugiat luctus eros, vitae feugiat massa tristique nec. Pellentesque viverra maximus pellentesque. Etiam ligula erat, tincidunt id finibus et, feugiat ut eros."
   ]
  },
  {
   "cell_type": "markdown",
   "id": "98c39785",
   "metadata": {},
   "source": [
    "## Bagian 1: Generate stratified random samples"
   ]
  },
  {
   "cell_type": "markdown",
   "id": "01d03473",
   "metadata": {},
   "source": [
    "=============================================================\n",
    "### User Editable Part\n",
    "=============================================================\n",
    "\n",
    "Anda dipersilakan mengisikan input/parameter pada bagian ini."
   ]
  },
  {
   "cell_type": "code",
   "execution_count": null,
   "id": "0aa0d4e4",
   "metadata": {},
   "outputs": [],
   "source": [
    "# Bagian 1A: nama file object Earth Engine berikut alamat asset-nya\n",
    "# Contoh: \"users/kfaisal/LCMS_Borneo_2016/L8_Borneo_2016_int\" \n",
    "img_asset = \"users/kfaisal/LCMS_Borneo_2016/L8_Borneo_2016_int\"\n",
    "\n",
    "# Bagian 1B: kombinasi RGB\n",
    "# Bands: {B2 = Blue, B3 = Green, B4 = Red, B5 = NIR, B6 = SWIR1, B7 = SWIR2}\n",
    "# Pilihan kombinasi RGB yang tersedia: \"432\" (komposit warna asli), \"543\", \"562\", \"563\", \"564\", \"567\"\n",
    "comp_rgb = \"564\"\n",
    "\n",
    "# Bagian 2: Study area\n",
    "# Pilihan: Sumatera, Jawa, Bali_NusaTenggara, Borneo, Sulawesi, Maluku, Papua\n",
    "studyArea = \"Borneo\" # jangan lupa membubuhkan tanda petik\n",
    "\n",
    "# Bagian 3: Jumlah K-Means clusters\n",
    "num_cluster = 15\n",
    "\n",
    "# Bagian 4: Jumlah titik sampel yang diinginkan\n",
    "num_out_samples = 1000\n",
    "\n",
    "# Bagian 5: Parameter ekspor samples ke Google Drive\n",
    "folderName = \"LCMS_samples\"\n",
    "exportName = \"Borneo_2016\""
   ]
  },
  {
   "cell_type": "markdown",
   "id": "478e0b64",
   "metadata": {},
   "source": [
    "### Packages"
   ]
  },
  {
   "cell_type": "code",
   "execution_count": null,
   "id": "28c429a0",
   "metadata": {},
   "outputs": [],
   "source": [
    "import ee"
   ]
  },
  {
   "cell_type": "markdown",
   "id": "e11f9d59",
   "metadata": {},
   "source": [
    "### Authenticate & Initialize GEE account"
   ]
  },
  {
   "cell_type": "code",
   "execution_count": null,
   "id": "14cb7042",
   "metadata": {},
   "outputs": [],
   "source": [
    "# Authenticate\n",
    "# Anda dipersilakan melakukan otentifikasi cukup sekali\n",
    "ee.Authenticate()"
   ]
  },
  {
   "cell_type": "code",
   "execution_count": null,
   "id": "6782cde8",
   "metadata": {},
   "outputs": [],
   "source": [
    "# Initialization\n",
    "ee.Initialize()"
   ]
  },
  {
   "cell_type": "markdown",
   "id": "499400ca",
   "metadata": {},
   "source": [
    "### Define datasets"
   ]
  },
  {
   "cell_type": "code",
   "execution_count": null,
   "id": "00cc1754",
   "metadata": {},
   "outputs": [],
   "source": [
    "# Study area\n",
    "Sumatera = ee.Geometry.Rectangle(94.972663, 6.07694, 109.167015, -6.168225)\n",
    "Jawa = ee.Geometry.Rectangle(105.099847, -5.042965, 116.270189, -8.78036)\n",
    "BaliNusaTenggara = ee.Geometry.Rectangle(114.431623, -6.634793, 127.303383, -11.007615)\n",
    "Borneo = ee.Geometry.Rectangle(108.028633, 7.370019, 119.507898, -5.101769)\n",
    "Sulawesi = ee.Geometry.Rectangle(117.481334, 5.565816, 127.163961, -7.516092)\n",
    "Maluku = ee.Geometry.Rectangle(124.144139, 2.645058, 134.908244, -8.347357)\n",
    "Papua = ee.Geometry.Rectangle(128.909404, 1.081204, 141.029936, -9.140145)\n",
    "\n",
    "if studyArea == \"Sumatera\":\n",
    "    ROI = Sumatera\n",
    "elif studyArea == \"Jawa\":\n",
    "    ROI = Jawa\n",
    "elif studyArea == \"Bali_NusaTenggara\":\n",
    "    ROI = BaliNusaTenggara\n",
    "elif studyArea == \"Borneo\":\n",
    "    ROI = Borneo\n",
    "elif studyArea == \"Sulawesi\":\n",
    "    ROI = \"Sulawesi\"\n",
    "elif studyArea == \"Maluku\":\n",
    "    ROI = Maluku\n",
    "elif studyArea == \"Papua\":\n",
    "    ROI = Papua\n",
    "\n",
    "# Landsat image\n",
    "landsat_image = ee.Image(img_asset)\n",
    "\n",
    "# SRTM image\n",
    "SRTM_image = ee.Image(\"USGS/SRTMGL1_003\").clip(ROI)\n",
    "\n",
    "# Stack image\n",
    "stacked_image = ee.Image([landsat_image, SRTM_image])\n",
    "\n",
    "# Landsat visualization (ipyleaflet tile layer format)\n",
    "RGB432 = {\"min\": 400, \"max\": 4000, \"gamma\": 0.99, \"bands\": ['B4','B3','B2']}\n",
    "RGB543 = {\"min\": 400, \"max\": 4000, \"gamma\": 0.99, \"bands\": ['B5','B4','B3']}\n",
    "RGB562 = {\"min\": 400, \"max\": 4000, \"gamma\": 0.99, \"bands\": ['B5','B6','B2']}\n",
    "RGB564 = {\"min\": 400, \"max\": 4000, \"gamma\": 0.99, \"bands\": ['B5','B6','B4']}\n",
    "RGB567 = {\"min\": 400, \"max\": 4000, \"gamma\": 0.99, \"bands\": ['B5','B6','B7']}\n",
    "\n",
    "if comp_rgb == \"432\":\n",
    "    vizParam = RGB432\n",
    "elif comp_rgb == \"543\":\n",
    "    vizParam = RGB543\n",
    "elif comp_rgb == \"562\":\n",
    "    vizParam = RGB562\n",
    "elif comp_rgb == \"564\":\n",
    "    vizParam = RGB564\n",
    "elif comp_rgb == \"567\":\n",
    "    vizParam = RGB567"
   ]
  },
  {
   "cell_type": "markdown",
   "id": "6a67a616",
   "metadata": {},
   "source": [
    "### K-Means Clustering"
   ]
  },
  {
   "cell_type": "code",
   "execution_count": null,
   "id": "14731acb",
   "metadata": {},
   "outputs": [],
   "source": [
    "# Generate 10000 random samples and extract image values\n",
    "\n",
    "## Sampling\n",
    "random_samples = ee.FeatureCollection.randomPoints(\n",
    "    region = ROI,\n",
    "    points = 10000\n",
    ")\n",
    "## Image sampling\n",
    "samp_image = stacked_image.sampleRegions(\n",
    "    collection = random_samples,\n",
    "    scale = 30\n",
    ")\n",
    "## Run K-Means clustering\n",
    "kmeans = ee.Clusterer.wekaKMeans(num_cluster).train(samp_image)\n",
    "cluster_k = stacked_image.cluster(kmeans).rename(\"cluster\")"
   ]
  },
  {
   "cell_type": "markdown",
   "id": "09bb22b9",
   "metadata": {},
   "source": [
    "### Generate proportionally stratified random samples"
   ]
  },
  {
   "cell_type": "code",
   "execution_count": null,
   "id": "cc56fb93",
   "metadata": {},
   "outputs": [],
   "source": [
    "# Proportional random sampling\n",
    "areaImage = ee.Image.pixelArea().addBands(cluster_k)\n",
    "\n",
    "# Calculate per-cluster area\n",
    "areas = areaImage.reduceRegion(\n",
    "    reducer = ee.Reducer.sum().group(\n",
    "        groupField = 1,\n",
    "        groupName = \"cluster\"),\n",
    "    geometry = ROI,\n",
    "    scale = 100,\n",
    "    maxPixels = 1e13)\n",
    "classAreas = ee.List(areas.get(\"groups\"))\n",
    "\n",
    "# List of cluster\n",
    "def classnum(item):\n",
    "    areaDict = ee.Dictionary(item)\n",
    "    classNumber = ee.Number(areaDict.get(\"cluster\"))\n",
    "    return classNumber\n",
    "classNumLists = classAreas.map(classnum)\n",
    "numValues = ee.Array(classNumLists).round().int().toList()\n",
    "\n",
    "# List of per-class area\n",
    "def classarea(item):\n",
    "    areaDict = ee.Dictionary(item)\n",
    "    area = ee.Number(areaDict.get(\"sum\")).divide(1e4).round()\n",
    "    return area\n",
    "classAreaLists = classAreas.map(classarea)\n",
    "totalArea = ee.Number(classAreaLists.reduce(ee.Reducer.sum()))\n",
    "\n",
    "# Generate number of points proportionally\n",
    "numPoints = ee.Array(classAreaLists).divide(totalArea).multiply(num_out_samples).round().int().toList()\n",
    "\n",
    "# Generate proportional sample points\n",
    "stratified = cluster_k.stratifiedSample(\n",
    "  numPoints = num_out_samples,\n",
    "  classBand = \"cluster\",\n",
    "  classValues = numValues,\n",
    "  classPoints = numPoints,\n",
    "  scale = 100,\n",
    "  region = ROI,\n",
    "  geometries = True)"
   ]
  },
  {
   "cell_type": "markdown",
   "id": "5780fa31",
   "metadata": {},
   "source": [
    "### Export output samples to Google Drive"
   ]
  },
  {
   "cell_type": "code",
   "execution_count": null,
   "id": "ddfbd9c7",
   "metadata": {},
   "outputs": [],
   "source": [
    "# Export samples to Drive\n",
    "from datetime import date\n",
    "today = date.today()\n",
    "todaydate = today.strftime(\"%b-%d-%Y\")\n",
    "\n",
    "exportTask = ee.batch.Export.table.toDrive(\n",
    "    collection = stratified,\n",
    "    description = todaydate + '_' + exportName + '_stratifiedsamples_' + str(num_cluster) + '_' + str(num_out_samples),\n",
    "    folder = folderName,\n",
    "    fileFormat = 'SHP')\n",
    "exportTask.start()"
   ]
  },
  {
   "cell_type": "markdown",
   "id": "b65d4e04",
   "metadata": {},
   "source": [
    "============================================\n",
    "### Akhir dari bagian pembuatan titik sampel\n",
    "============================================\n",
    "\n",
    "Cek hasil ekspor titik sampel pada `Google Drive` Anda, kemudian unduh file tersebut untuk Anda gunakan pada proses berikutnya: proses pemberian label pada titik sampel."
   ]
  },
  {
   "cell_type": "markdown",
   "id": "6866d83a",
   "metadata": {},
   "source": [
    "## Bagian 2: Labelling\n",
    "\n",
    "Note: Jika Anda memulai sesi baru, silakan menjalankan code cell **User Editable Part** hingga **Define datasets** pada Bagian 1 di atas."
   ]
  },
  {
   "cell_type": "markdown",
   "id": "6773b659",
   "metadata": {},
   "source": [
    "=============================================================\n",
    "### User Editable Part\n",
    "=============================================================\n",
    "\n",
    "Anda dipersilakan mengisikan input/parameter pada bagian ini."
   ]
  },
  {
   "cell_type": "code",
   "execution_count": null,
   "id": "e61c4095",
   "metadata": {},
   "outputs": [],
   "source": [
    "# Bagian 1: nama dan folder path lokasi penyimpanan file titik sampel yang dibuat \n",
    "# berdasarkan hasil clustering dengan K-Means pada tahap sebelumnya \n",
    "# (ataupun titik yang telah selesai diisi atributnya sebagian)\n",
    "# Contoh: \"./samples/Aug-06-2021_Borneo_2016_stratifiedsamples_15_1000_gcs.shp\"\n",
    "path_to_shp = \"./samples/Aug-06-2021_Borneo_2016_stratifiedsamples_15_1000_gcs.shp\"\n",
    "\n",
    "# Bagian 2: daftar label tutupan lahan\n",
    "class_opt = [\"Forest\", \"No-forest\"]"
   ]
  },
  {
   "cell_type": "markdown",
   "id": "41fdf093",
   "metadata": {},
   "source": [
    "### Packages"
   ]
  },
  {
   "cell_type": "code",
   "execution_count": null,
   "id": "4381dba8",
   "metadata": {},
   "outputs": [],
   "source": [
    "import geopandas\n",
    "from ipywidgets import fixed, interact, interact_manual, widgets\n",
    "from IPython.display import display, clear_output\n",
    "import ipyleaflet\n",
    "import geemap\n",
    "import numpy"
   ]
  },
  {
   "cell_type": "markdown",
   "id": "6122352a",
   "metadata": {},
   "source": [
    "### Define datasets"
   ]
  },
  {
   "cell_type": "code",
   "execution_count": null,
   "id": "f92acab2",
   "metadata": {},
   "outputs": [],
   "source": [
    "# import shapefiles as geodataframe\n",
    "gdf = geopandas.read_file(path_to_shp)\n",
    "\n",
    "# create some columns for first time only\n",
    "if 'ID' in gdf:\n",
    "    pass\n",
    "else:\n",
    "    gdf['ID'] = numpy.arange(len(gdf))\n",
    "    gdf['lat'] = gdf['geometry'].y\n",
    "    gdf['lon'] = gdf['geometry'].x\n",
    "    gdf['Class'] = None\n",
    "\n",
    "# filter out geodataframe with NA value on \"Class\" column\n",
    "filt_gdf = gdf[gdf['Class'].isna()]\n",
    "\n",
    "# create list of ID\n",
    "filt_id_list = filt_gdf['ID'].tolist()\n",
    "\n",
    "# function to read tile layer on ipyleaflet\n",
    "def GetTileLayerUrl(ee_image_object):\n",
    "  map_id = ee.Image(ee_image_object).getMapId()\n",
    "  tile_fetcher = map_id['tile_fetcher']\n",
    "  return tile_fetcher.url_format"
   ]
  },
  {
   "cell_type": "code",
   "execution_count": null,
   "metadata": {},
   "outputs": [],
   "source": [
    "# Check prior dataframe\n",
    "filt_gdf.head()"
   ]
  },
  {
   "cell_type": "markdown",
   "id": "cf81a86c",
   "metadata": {},
   "source": [
    "### List of widgets"
   ]
  },
  {
   "cell_type": "code",
   "execution_count": null,
   "id": "4a62772e",
   "metadata": {},
   "outputs": [],
   "source": [
    "nextButton = widgets.Button(\n",
    "    description = 'Next feature',\n",
    "    button_style = 'info',\n",
    "    tooltip = 'Next feature',\n",
    "    icon = 'toggle-right'\n",
    ")\n",
    "\n",
    "prevButton = widgets.Button(\n",
    "    description = 'Prev. feature',\n",
    "    button_style = 'info',\n",
    "    tooltip = 'Prev. feature',\n",
    "    icon = 'toggle-left'\n",
    ")\n",
    "jumpButton = widgets.Button(\n",
    "    description = 'Jump to feature',\n",
    "    button_style = 'info',\n",
    "    tooltip = 'Jump to',\n",
    "    icon = 'mail-forward'\n",
    ")\n",
    "class_assign = widgets.Dropdown(\n",
    "    options = class_opt,\n",
    "    description = 'Class name:',\n",
    "    value = None\n",
    ")\n",
    "id_selector = widgets.Dropdown(\n",
    "    options = filt_id_list,\n",
    "    description = \"List of ID\",\n",
    "    value = filt_id_list[0]\n",
    ")\n",
    "out = widgets.Output()\n",
    "toolbar_wid = widgets.VBox()\n",
    "toolbar_wid.children = (\n",
    "    widgets.HBox([id_selector,jumpButton]),\n",
    "    out,\n",
    "    widgets.HBox([prevButton,nextButton])\n",
    ")"
   ]
  },
  {
   "cell_type": "markdown",
   "id": "c87b94e6",
   "metadata": {},
   "source": [
    "### Define ipyleaflet objects"
   ]
  },
  {
   "cell_type": "code",
   "execution_count": null,
   "id": "dee2e349",
   "metadata": {},
   "outputs": [],
   "source": [
    "# basemaps\n",
    "basemap_Esri = ipyleaflet.basemap_to_tiles(basemap = ipyleaflet.basemaps.Esri.WorldImagery)\n",
    "\n",
    "# map components\n",
    "m = ipyleaflet.Map(scroll_wheel_zoom = True)\n",
    "layer_control = ipyleaflet.LayersControl(position = 'topright')\n",
    "m.add_control(layer_control)\n",
    "m.add_layer(basemap_Esri)\n",
    "m.add_layer(ipyleaflet.TileLayer(url = GetTileLayerUrl(\n",
    "    landsat_image.visualize(min = vizParam['min'], \n",
    "                            max = vizParam['max'], \n",
    "                            gamma = vizParam['gamma'], \n",
    "                            bands = vizParam['bands']))))\n",
    "\n",
    "idx = 2 # index of list\n",
    "\n",
    "# Ipyleaflet object\n",
    "init_obj = filt_gdf[filt_gdf['ID'] == filt_id_list[idx]]\n",
    "geodata = ipyleaflet.GeoData(geo_dataframe = init_obj, name = 'Layer ' + str(filt_id_list[idx]))\n",
    "\n",
    "lat = init_obj.iloc[0]['lat']\n",
    "lon = init_obj.iloc[0]['lon']\n",
    "\n",
    "m.center = (lat, lon)\n",
    "m.zoom = 10\n",
    "m.add_layer(geodata)\n",
    "\n",
    "# # functions\n",
    "\n",
    "def assign_class():\n",
    "\n",
    "    def get_idx(id):\n",
    "        return filt_id_list.index(id)\n",
    "    \n",
    "    def jump_button_clicked(b):\n",
    "        with out:\n",
    "            clear_output()\n",
    "            global idx\n",
    "            global geodata\n",
    "            idx = get_idx(id_selector.value)\n",
    "            print('jump to ID:', id_selector.value)\n",
    "            m.remove_layer(geodata)\n",
    "            geodata = ipyleaflet.GeoData(geo_dataframe = filt_gdf.loc[filt_gdf['ID'] == filt_id_list[idx]], name = 'Layer ' + str(filt_id_list[idx]))\n",
    "            m.add_layer(geodata)\n",
    "            sel = filt_gdf.loc[filt_gdf['ID'] == filt_id_list[idx]]\n",
    "            lat = sel.iloc[0]['lat']\n",
    "            lon = sel.iloc[0]['lon']\n",
    "            m.center = (lat, lon)\n",
    "        \n",
    "    def next_button_clicked(b, incr = 1):\n",
    "        with out:\n",
    "            clear_output()\n",
    "            global idx\n",
    "            global geodata\n",
    "            print('Prev. ID:', filt_id_list[idx])\n",
    "            idx = idx + incr\n",
    "            print('Current ID selected:', filt_id_list[idx])\n",
    "            m.remove_layer(geodata)\n",
    "            geodata = ipyleaflet.GeoData(geo_dataframe = filt_gdf.loc[filt_gdf['ID'] == filt_id_list[idx]], name = 'Layer ' + str(filt_id_list[idx]))\n",
    "            print(geodata)\n",
    "            m.add_layer(geodata)\n",
    "            sel = filt_gdf.loc[filt_gdf['ID'] == filt_id_list[idx]]\n",
    "            lat = sel.iloc[0]['lat']\n",
    "            lon = sel.iloc[0]['lon']\n",
    "            m.center = (lat, lon)\n",
    "    \n",
    "    def prev_button_clicked(b):\n",
    "        return next_button_clicked(b, -1)\n",
    "\n",
    "    def assign_f(classname):\n",
    "        global idx\n",
    "        gdf.loc[gdf['ID'] == filt_id_list[idx], 'Class'] = classname\n",
    "        print(gdf.loc[gdf['ID'] == filt_id_list[idx]])\n",
    "    \n",
    "    display(m)\n",
    "\n",
    "    display(toolbar_wid)\n",
    "    \n",
    "    jumpButton.on_click(jump_button_clicked)\n",
    "    nextButton.on_click(next_button_clicked)\n",
    "    prevButton.on_click(prev_button_clicked)\n",
    "    \n",
    "    im = interact_manual(assign_f, classname = class_assign, gdf = widgets.fixed(gdf))\n",
    "    im.widget.children[0].description = 'Class name:'\n",
    "    im.widget.children[1].description = 'Save change!'\n",
    "    display(im)\n"
   ]
  },
  {
   "cell_type": "markdown",
   "id": "8c51ea6a",
   "metadata": {},
   "source": [
    "### Run labelling process!"
   ]
  },
  {
   "cell_type": "code",
   "execution_count": null,
   "id": "cfa67a4a",
   "metadata": {},
   "outputs": [],
   "source": [
    "assign_class()"
   ]
  },
  {
   "source": [
    "### Check dataframe"
   ],
   "cell_type": "markdown",
   "metadata": {}
  },
  {
   "cell_type": "code",
   "execution_count": null,
   "id": "608d5cf0",
   "metadata": {},
   "outputs": [],
   "source": [
    "# Check after editing\n",
    "gdf.head(10)"
   ]
  },
  {
   "cell_type": "markdown",
   "id": "95d97af0",
   "metadata": {},
   "source": [
    "### Menyimpan hasil sample labelling"
   ]
  },
  {
   "cell_type": "code",
   "execution_count": null,
   "id": "fdb5f385",
   "metadata": {},
   "outputs": [],
   "source": [
    "# export current results\n",
    "\n",
    "# Encoding to 0 (No-forest) and 1 (Forest)\n",
    "gdf['Class_code'] = numpy.where(gdf['Class'].isnull(), 99, numpy.where(gdf['Class'] == 'Forest', 1, 0))\n",
    "\n",
    "gdf.to_file(path_to_shp)"
   ]
  },
  {
   "cell_type": "markdown",
   "id": "12a7c2a9",
   "metadata": {},
   "source": [
    "### Ekspor hasil final ke GEE Asset"
   ]
  },
  {
   "cell_type": "code",
   "execution_count": null,
   "id": "4b319cfb",
   "metadata": {},
   "outputs": [],
   "source": [
    "# Export to Asset, later used as machine-learning classification input in GEE\n",
    "from datetime import date\n",
    "today = date.today()\n",
    "todaydate = today.strftime(\"%b-%d-%Y\")\n",
    "\n",
    "# Convert geodataframe to ee object\n",
    "ee_export = geemap.geopandas_to_ee(gdf)\n",
    "\n",
    "exportTask = ee.batch.Export.table.toAsset(\n",
    "    collection = ee_export,\n",
    "    description = str(todaydate) + '_' + studyArea + '_forestCoverSamples',\n",
    "    assetId = 'users/gemasaktiadzan/' + description)\n",
    "exportTask.start()"
   ]
  },
  {
   "cell_type": "code",
   "execution_count": null,
   "metadata": {},
   "outputs": [],
   "source": []
  }
 ],
 "metadata": {
  "interpreter": {
   "hash": "3a58b3e75800a6524d5250ab9a8703d8b87ad2c78c9cf22d4923ae8bbaece9fb"
  },
  "kernelspec": {
   "name": "python3",
   "display_name": "Python 3.8.11 64-bit ('gee': conda)"
  },
  "language_info": {
   "codemirror_mode": {
    "name": "ipython",
    "version": 3
   },
   "file_extension": ".py",
   "mimetype": "text/x-python",
   "name": "python",
   "nbconvert_exporter": "python",
   "pygments_lexer": "ipython3",
   "version": "3.8.11"
  }
 },
 "nbformat": 4,
 "nbformat_minor": 5
}