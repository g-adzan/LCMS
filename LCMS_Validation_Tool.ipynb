{
 "cells": [
  {
   "cell_type": "markdown",
   "id": "1dbc0165-ed5f-4a1c-af56-1f7bdfcc1d86",
   "metadata": {},
   "source": [
    "# Land Cover Sampling Tool\n",
    "Date: 2021-08-23\n",
    "\n",
    "Update: 2021-12-05"
   ]
  },
  {
   "cell_type": "markdown",
   "id": "98c39785",
   "metadata": {},
   "source": [
    "## Bagian 1: Generate stratified random samples"
   ]
  },
  {
   "cell_type": "markdown",
   "id": "01d03473",
   "metadata": {},
   "source": [
    "=============================================================\n",
    "### User Editable Part\n",
    "=============================================================\n",
    "\n",
    "Anda dipersilakan mengisikan input/parameter pada bagian ini."
   ]
  },
  {
   "cell_type": "code",
   "execution_count": null,
   "id": "0aa0d4e4",
   "metadata": {},
   "outputs": [],
   "source": [
    "# Bagian 1A: nama file object Earth Engine berikut alamat asset-nya\n",
    "# Contoh: \"users/kfaisal/LCMS_Borneo_2016/L8_Borneo_2016_int\" \n",
    "img_asset = \"users/kfaisal/LCMS_Borneo_2016/L8_Borneo_2016_int\"\n",
    "\n",
    "# Bagian 1B: kombinasi RGB\n",
    "# Bands: {B2 = Blue, B3 = Green, B4 = Red, B5 = NIR, B6 = SWIR1, B7 = SWIR2}\n",
    "# Pilihan kombinasi RGB yang tersedia: \"432\" (komposit warna asli), \"543\", \"562\", \"563\", \"564\", \"567\"\n",
    "comp_rgb = \"562\"\n",
    "\n",
    "# Bagian 2: Study area\n",
    "# Pilihan: Sumatera, Jawa, Bali_NusaTenggara, Borneo, Sulawesi, Maluku, Papua\n",
    "studyArea = \"Borneo\" # jangan lupa membubuhkan tanda petik\n",
    "\n",
    "# Bagian 3: Jumlah K-Means clusters\n",
    "num_cluster = 15\n",
    "\n",
    "# Bagian 4: Jumlah titik sampel yang diinginkan\n",
    "num_out_samples = 1000\n",
    "\n",
    "# Bagian 5: Parameter ekspor samples ke Google Drive\n",
    "folderName = \"LCMS_samples\"\n",
    "exportName = \"Borneo_2016\""
   ]
  },
  {
   "cell_type": "markdown",
   "id": "478e0b64",
   "metadata": {},
   "source": [
    "### Packages"
   ]
  },
  {
   "cell_type": "code",
   "execution_count": null,
   "id": "28c429a0",
   "metadata": {},
   "outputs": [],
   "source": [
    "import ee"
   ]
  },
  {
   "cell_type": "markdown",
   "id": "e11f9d59",
   "metadata": {},
   "source": [
    "### Authenticate & Initialize GEE account"
   ]
  },
  {
   "cell_type": "code",
   "execution_count": null,
   "id": "14cb7042",
   "metadata": {},
   "outputs": [],
   "source": [
    "# Authenticate\n",
    "# Anda dipersilakan melakukan otentifikasi cukup sekali\n",
    "# ee.Authenticate()"
   ]
  },
  {
   "cell_type": "code",
   "execution_count": null,
   "id": "6782cde8",
   "metadata": {},
   "outputs": [],
   "source": [
    "# Initialization\n",
    "ee.Initialize()"
   ]
  },
  {
   "cell_type": "markdown",
   "id": "499400ca",
   "metadata": {},
   "source": [
    "### Define datasets"
   ]
  },
  {
   "cell_type": "code",
   "execution_count": null,
   "id": "00cc1754",
   "metadata": {},
   "outputs": [],
   "source": [
    "# Study area\n",
    "Sumatera = ee.Geometry.Rectangle(94.972663, 6.07694, 109.167015, -6.168225)\n",
    "Jawa = ee.Geometry.Rectangle(105.099847, -5.042965, 116.270189, -8.78036)\n",
    "BaliNusaTenggara = ee.Geometry.Rectangle(114.431623, -6.634793, 127.303383, -11.007615)\n",
    "Borneo = ee.Geometry.Rectangle(108.028633, 7.370019, 119.507898, -5.101769)\n",
    "Sulawesi = ee.Geometry.Rectangle(117.481334, 5.565816, 127.163961, -7.516092)\n",
    "Maluku = ee.Geometry.Rectangle(124.144139, 2.645058, 134.908244, -8.347357)\n",
    "Papua = ee.Geometry.Rectangle(128.909404, 1.081204, 141.029936, -9.140145)\n",
    "\n",
    "if studyArea == \"Sumatera\":\n",
    "    ROI = Sumatera\n",
    "    center_coord = (0, 101.9)\n",
    "elif studyArea == \"Jawa\":\n",
    "    ROI = Jawa\n",
    "    center_coord = (-7.2, 109.5)\n",
    "elif studyArea == \"Bali_NusaTenggara\":\n",
    "    ROI = BaliNusaTenggara\n",
    "elif studyArea == \"Borneo\":\n",
    "    ROI = Borneo\n",
    "    center_coord = (1, 113.822)\n",
    "elif studyArea == \"Sulawesi\":\n",
    "    ROI = \"Sulawesi\"\n",
    "    center_coord = (-2, 120.5)\n",
    "elif studyArea == \"Maluku\":\n",
    "    ROI = Maluku\n",
    "    center_coord = (-1.6, 128.3)\n",
    "elif studyArea == \"Papua\":\n",
    "    ROI = Papua\n",
    "    center_coord = (-3.8, 137.3)\n",
    "\n",
    "# Landsat image\n",
    "landsat_image = ee.Image(img_asset)\n",
    "\n",
    "# SRTM image\n",
    "SRTM_image = ee.Image(\"USGS/SRTMGL1_003\").clip(ROI)\n",
    "\n",
    "# Stack image\n",
    "stacked_image = ee.Image([landsat_image, SRTM_image])\n",
    "\n",
    "# Landsat visualization (ipyleaflet tile layer format)\n",
    "RGB432 = {\"min\": 400, \"max\": 4000, \"gamma\": 0.99, \"bands\": ['B4','B3','B2']}\n",
    "RGB543 = {\"min\": 400, \"max\": 4000, \"gamma\": 0.99, \"bands\": ['B5','B4','B3']}\n",
    "RGB562 = {\"min\": 400, \"max\": 4000, \"gamma\": 0.99, \"bands\": ['B5','B6','B2']}\n",
    "RGB564 = {\"min\": 400, \"max\": 4000, \"gamma\": 0.99, \"bands\": ['B5','B6','B4']}\n",
    "RGB567 = {\"min\": 400, \"max\": 4000, \"gamma\": 0.99, \"bands\": ['B5','B6','B7']}\n",
    "\n",
    "if comp_rgb == \"432\":\n",
    "    vizParam = RGB432\n",
    "elif comp_rgb == \"543\":\n",
    "    vizParam = RGB543\n",
    "elif comp_rgb == \"562\":\n",
    "    vizParam = RGB562\n",
    "elif comp_rgb == \"564\":\n",
    "    vizParam = RGB564\n",
    "elif comp_rgb == \"567\":\n",
    "    vizParam = RGB567"
   ]
  },
  {
   "cell_type": "markdown",
   "id": "6a67a616",
   "metadata": {},
   "source": [
    "### K-Means Clustering"
   ]
  },
  {
   "cell_type": "code",
   "execution_count": null,
   "id": "14731acb",
   "metadata": {},
   "outputs": [],
   "source": [
    "# Generate 10000 random samples and extract image values\n",
    "\n",
    "## Sampling\n",
    "random_samples = ee.FeatureCollection.randomPoints(\n",
    "    region = ROI,\n",
    "    points = 10000\n",
    ")\n",
    "## Image sampling\n",
    "samp_image = stacked_image.sampleRegions(\n",
    "    collection = random_samples,\n",
    "    scale = 30\n",
    ")\n",
    "## Run K-Means clustering\n",
    "kmeans = ee.Clusterer.wekaKMeans(num_cluster).train(samp_image)\n",
    "cluster_k = stacked_image.cluster(kmeans).rename(\"cluster\")"
   ]
  },
  {
   "cell_type": "markdown",
   "id": "09bb22b9",
   "metadata": {},
   "source": [
    "### Generate proportionally stratified random samples"
   ]
  },
  {
   "cell_type": "code",
   "execution_count": null,
   "id": "cc56fb93",
   "metadata": {},
   "outputs": [],
   "source": [
    "# Proportional random sampling\n",
    "areaImage = ee.Image.pixelArea().addBands(cluster_k)\n",
    "\n",
    "# Calculate per-cluster area\n",
    "areas = areaImage.reduceRegion(\n",
    "    reducer = ee.Reducer.sum().group(\n",
    "        groupField = 1,\n",
    "        groupName = \"cluster\"),\n",
    "    geometry = ROI,\n",
    "    scale = 100,\n",
    "    maxPixels = 1e13)\n",
    "classAreas = ee.List(areas.get(\"groups\"))\n",
    "\n",
    "# List of cluster\n",
    "def classnum(item):\n",
    "    areaDict = ee.Dictionary(item)\n",
    "    classNumber = ee.Number(areaDict.get(\"cluster\"))\n",
    "    return classNumber\n",
    "classNumLists = classAreas.map(classnum)\n",
    "numValues = ee.Array(classNumLists).round().int().toList()\n",
    "\n",
    "# List of per-class area\n",
    "def classarea(item):\n",
    "    areaDict = ee.Dictionary(item)\n",
    "    area = ee.Number(areaDict.get(\"sum\")).divide(1e4).round()\n",
    "    return area\n",
    "classAreaLists = classAreas.map(classarea)\n",
    "totalArea = ee.Number(classAreaLists.reduce(ee.Reducer.sum()))\n",
    "\n",
    "# Generate number of points proportionally\n",
    "numPoints = ee.Array(classAreaLists).divide(totalArea).multiply(num_out_samples).round().int().toList()\n",
    "\n",
    "# Generate proportional sample points\n",
    "stratified = cluster_k.stratifiedSample(\n",
    "  numPoints = num_out_samples,\n",
    "  classBand = \"cluster\",\n",
    "  classValues = numValues,\n",
    "  classPoints = numPoints,\n",
    "  scale = 100,\n",
    "  region = ROI,\n",
    "  geometries = True)"
   ]
  },
  {
   "cell_type": "markdown",
   "id": "5780fa31",
   "metadata": {},
   "source": [
    "### Export output samples to Google Drive"
   ]
  },
  {
   "cell_type": "code",
   "execution_count": null,
   "id": "ddfbd9c7",
   "metadata": {},
   "outputs": [],
   "source": [
    "# Export samples to Drive\n",
    "from datetime import date\n",
    "today = date.today()\n",
    "todaydate = today.strftime(\"%b-%d-%Y\")\n",
    "\n",
    "exportTask = ee.batch.Export.table.toDrive(\n",
    "    collection = stratified,\n",
    "    description = todaydate + '_' + exportName + '_stratifiedsamples_' + str(num_cluster) + '_' + str(num_out_samples),\n",
    "    folder = folderName,\n",
    "    fileFormat = 'SHP')\n",
    "exportTask.start()"
   ]
  },
  {
   "cell_type": "markdown",
   "id": "2adffc84",
   "metadata": {},
   "source": [
    "============================================\n",
    "### Akhir dari bagian pembuatan titik sampel\n",
    "============================================\n",
    "\n",
    "Cek hasil ekspor titik sampel pada `Google Drive` Anda, kemudian unduh file tersebut untuk Anda gunakan pada proses berikutnya: proses pemberian label pada titik sampel."
   ]
  },
  {
   "cell_type": "markdown",
   "id": "13f7a321",
   "metadata": {},
   "source": [
    "## Bagian 2: Labelling\n",
    "\n",
    "Note: Jika Anda memulai sesi baru, silakan menjalankan code cell **User Editable Part** hingga **Define datasets** pada Bagian 1 di atas."
   ]
  },
  {
   "cell_type": "markdown",
   "id": "6773b659",
   "metadata": {},
   "source": [
    "=============================================================\n",
    "### User Editable Part\n",
    "=============================================================\n",
    "\n",
    "Anda dipersilakan mengisikan input/parameter pada bagian ini."
   ]
  },
  {
   "cell_type": "code",
   "execution_count": null,
   "id": "e61c4095",
   "metadata": {},
   "outputs": [],
   "source": [
    "# Bagian 1: nama dan folder path lokasi penyimpanan file titik sampel yang dibuat \n",
    "# berdasarkan hasil clustering dengan K-Means pada tahap sebelumnya \n",
    "# (ataupun titik yang telah selesai diisi atributnya sebagian)\n",
    "# Contoh: \"./samples/Aug-06-2021_Borneo_2016_stratifiedsamples_15_1000_gcs.shp\"\n",
    "path_to_shp = \"./samples/Aug-06-2021_Borneo_2016_stratifiedsamples_15_1000_gcs.shp\"\n",
    "\n",
    "# Bagian 2: Asset ID\n",
    "asset_Id = 'users/gemasaktiadzan/'\n",
    "\n",
    "# Bagian 3: daftar label tutupan lahan\n",
    "class_opt = [\"Forest\", \"No-forest\"]"
   ]
  },
  {
   "cell_type": "markdown",
   "id": "41fdf093",
   "metadata": {},
   "source": [
    "### Packages"
   ]
  },
  {
   "cell_type": "code",
   "execution_count": null,
   "id": "4381dba8",
   "metadata": {},
   "outputs": [],
   "source": [
    "import geopandas\n",
    "from ipywidgets import fixed, interact, interact_manual, widgets\n",
    "from IPython.display import display, clear_output\n",
    "import ipyleaflet\n",
    "import geemap\n",
    "import numpy\n",
    "import qgrid\n",
    "import pandas"
   ]
  },
  {
   "cell_type": "markdown",
   "id": "6122352a",
   "metadata": {},
   "source": [
    "### Define datasets"
   ]
  },
  {
   "cell_type": "code",
   "execution_count": null,
   "id": "f92acab2",
   "metadata": {},
   "outputs": [],
   "source": [
    "# import shapefiles as geodataframe\n",
    "gdf = geopandas.read_file(path_to_shp)\n",
    "\n",
    "# create some columns for first time only\n",
    "if 'ID' in gdf:\n",
    "    pass\n",
    "else:\n",
    "    gdf['ID'] = numpy.arange(len(gdf))\n",
    "    gdf['lat'] = gdf['geometry'].y\n",
    "    gdf['lon'] = gdf['geometry'].x\n",
    "    gdf['Class'] = None\n",
    "\n",
    "# create list of ID\n",
    "id_list = gdf['ID'].tolist()\n",
    "\n",
    "# function to read tile layer on ipyleaflet\n",
    "def GetTileLayerUrl(ee_image_object):\n",
    "  map_id = ee.Image(ee_image_object).getMapId()\n",
    "  tile_fetcher = map_id['tile_fetcher']\n",
    "  return tile_fetcher.url_format"
   ]
  },
  {
   "cell_type": "markdown",
   "id": "cf81a86c",
   "metadata": {},
   "source": [
    "### List of widgets"
   ]
  },
  {
   "cell_type": "code",
   "execution_count": null,
   "id": "4a62772e",
   "metadata": {},
   "outputs": [],
   "source": [
    "nextButton = widgets.Button(\n",
    "    description = 'Next feature',\n",
    "    button_style = 'info',\n",
    "    tooltip = 'Next feature',\n",
    "    icon = 'toggle-right',\n",
    "    layout = {'width': '200px'}\n",
    ")\n",
    "\n",
    "prevButton = widgets.Button(\n",
    "    description = 'Prev. feature',\n",
    "    button_style = 'info',\n",
    "    tooltip = 'Prev. feature',\n",
    "    icon = 'toggle-left',\n",
    "    layout = {'width': '200px'}\n",
    ")\n",
    "jumpButton = widgets.Button(\n",
    "    description = 'Jump to feature',\n",
    "    button_style = 'info',\n",
    "    tooltip = 'Jump to',\n",
    "    icon = 'mail-forward',\n",
    "    layout = {'width': '200px'}\n",
    ")\n",
    "class_assign = widgets.Dropdown(\n",
    "    options = class_opt,\n",
    "    description = 'Class name:',\n",
    "    value = None,\n",
    "    layout = {'width': '200px'}\n",
    ")\n",
    "assignButton = widgets.Button(\n",
    "    description = 'Assign Class',\n",
    "    button_style = 'info',\n",
    "    layout = {'width': '200px'}\n",
    ")\n",
    "id_selector = widgets.IntText(\n",
    "    description = \"ID\",\n",
    "    value = id_list[0],\n",
    "    layout = {'width': '200px'}\n",
    ")\n",
    "out = widgets.Output()\n",
    "toolbar_wid = widgets.VBox()\n",
    "toolbar_wid.children = (\n",
    "    out,\n",
    "    widgets.HBox([id_selector,jumpButton]),\n",
    "    widgets.HBox([prevButton,nextButton])\n",
    ")"
   ]
  },
  {
   "cell_type": "markdown",
   "id": "c87b94e6",
   "metadata": {
    "tags": []
   },
   "source": [
    "### Define ipyleaflet objects"
   ]
  },
  {
   "cell_type": "code",
   "execution_count": null,
   "id": "011e389c-4a8b-4c92-90e2-6bc1bc7b6175",
   "metadata": {},
   "outputs": [],
   "source": [
    "# map components\n",
    "m = ipyleaflet.Map(scroll_wheel_zoom = True)\n",
    "m.layout.width = '400px'\n",
    "layer_control = ipyleaflet.LayersControl(position = 'topright')\n",
    "m.add_control(layer_control)\n",
    "# m.add_layer(basemap_Esri)\n",
    "m.add_layer(ipyleaflet.TileLayer(url = GetTileLayerUrl(\n",
    "    landsat_image.visualize(min = vizParam['min'], \n",
    "                            max = vizParam['max'], \n",
    "                            gamma = vizParam['gamma'], \n",
    "                            bands = vizParam['bands']))))\n",
    "\n",
    "# initial object\n",
    "idx = 0 # first row\n",
    "init_obj = gdf[gdf['ID'] == id_list[idx]] # take the first row\n",
    "geodata = ipyleaflet.GeoData(geo_dataframe = init_obj, name = 'Layer ' + str(id_list[idx]),\n",
    "                            point_style = {'radius': 5, 'color': None, 'fillOpacity': 1, 'fillColor': 'blue', 'weight': 3})\n",
    "lat = init_obj.iloc[0]['lat']\n",
    "lon = init_obj.iloc[0]['lon']\n",
    "\n",
    "# set map center\n",
    "m.center = (lat, lon)\n",
    "m.zoom = 10\n",
    "m.add_layer(geodata)\n",
    "\n",
    "# functions\n",
    "def assign_class():\n",
    "    \n",
    "    def get_idx(id):\n",
    "        return id_list.index(id)\n",
    "\n",
    "    def jump_button_clicked(b):\n",
    "        with out:\n",
    "            clear_output()\n",
    "            global idx\n",
    "            global geodata\n",
    "            idx = get_idx(id_selector.value)\n",
    "            print('jump to ID:', id_selector.value)\n",
    "            m.remove_layer(geodata)\n",
    "            geo_dataframe = gdf.loc[gdf['ID'] == id_list[idx]]\n",
    "            geodata = ipyleaflet.GeoData(geo_dataframe = geo_dataframe, name = 'Layer ' + str(id_list[idx]),\n",
    "                                        point_style = {'radius': 5, 'color': None, 'fillOpacity': 1, 'fillColor': 'blue', 'weight': 3})\n",
    "            m.add_layer(geodata)\n",
    "            sel = gdf.loc[gdf['ID'] == id_list[idx]]\n",
    "            lat = sel.iloc[0]['lat']\n",
    "            lon = sel.iloc[0]['lon']\n",
    "            m.center = (lat, lon)\n",
    "    \n",
    "    def next_button_clicked(b, incr = 1):\n",
    "        with out:\n",
    "            clear_output()\n",
    "            global idx\n",
    "            global geodata\n",
    "            # print('Prev. ID:', id_list[idx])\n",
    "            idx = idx + incr\n",
    "            # print('Current ID:', id_list[idx])\n",
    "            m.remove_layer(geodata)\n",
    "            geo_dataframe = gdf.loc[gdf['ID'] == id_list[idx]]\n",
    "            geodata = ipyleaflet.GeoData(geo_dataframe = geo_dataframe, name = 'Layer ' + str(id_list[idx]),\n",
    "                                        point_style = {'radius': 5, 'color': None, 'fillOpacity': 1, 'fillColor': 'blue', 'weight': 3})\n",
    "            print('Current ID Class:', geo_dataframe['Class'])\n",
    "            m.add_layer(geodata)\n",
    "            sel = gdf.loc[gdf['ID'] == id_list[idx]]\n",
    "            lat = sel.iloc[0]['lat']\n",
    "            lon = sel.iloc[0]['lon']\n",
    "            m.center = (lat, lon)\n",
    "\n",
    "    def prev_button_clicked(b):\n",
    "        return next_button_clicked(b, -1)\n",
    "\n",
    "    def assign_f(classname):\n",
    "        global idx\n",
    "        gdf.loc[gdf['ID'] == id_list[idx], 'Class'] = classname\n",
    "        # print('{} of {} objects are succesfully assigned'.format(1000 - len(gdf[gdf['Class'].isna()]), len(gdf)-1))\n",
    "    \n",
    "    jumpButton.on_click(jump_button_clicked)\n",
    "    nextButton.on_click(next_button_clicked)\n",
    "    prevButton.on_click(prev_button_clicked)\n",
    "    \n",
    "    im = interact_manual(assign_f, classname = class_assign, gdf = widgets.fixed(gdf))\n",
    "    im.widget.children[0].description = 'Class name:'\n",
    "    im.widget.children[1].description = 'Save change!'\n",
    "    \n",
    "    grid = widgets.GridspecLayout(5,2)\n",
    "    grid[:,1] = m\n",
    "    grid[0,0] = toolbar_wid\n",
    "    display(grid)"
   ]
  },
  {
   "cell_type": "markdown",
   "id": "50916fff-a124-45a9-ba43-7862169afa16",
   "metadata": {},
   "source": [
    "### Labelling task"
   ]
  },
  {
   "cell_type": "code",
   "execution_count": null,
   "id": "680fc76e-0bb5-40d6-a601-d1dbed4f38e3",
   "metadata": {},
   "outputs": [],
   "source": [
    "assign_class()"
   ]
  },
  {
   "cell_type": "markdown",
   "id": "e8676513",
   "metadata": {},
   "source": [
    "### Optional: Adding samples manually"
   ]
  },
  {
   "cell_type": "code",
   "execution_count": null,
   "id": "dc562425",
   "metadata": {},
   "outputs": [],
   "source": [
    "# map component\n",
    "m1 = ipyleaflet.Map(scroll_wheel_zoom = True)\n",
    "m1.center = center_coord\n",
    "m1.zoom = 5.5\n",
    "dc = ipyleaflet.DrawControl()\n",
    "dc.marker = {\n",
    "    \"shapeOptions\": {\n",
    "        \"fillColor\": \"#6be5c3\",\n",
    "        \"color\": \"#6be5c3\",\n",
    "        \"fillOpacity\": 1.0\n",
    "    }}\n",
    "feature_collection = {\n",
    "    'type': 'FeatureCollection',\n",
    "    'features': []\n",
    "}\n",
    "def handle_draw(self, action, geo_json):\n",
    "    \"\"\"Do something with the GeoJSON when it's drawn on the map\"\"\"    \n",
    "    feature_collection['features'].append(geo_json)\n",
    "dc.on_draw(handle_draw)\n",
    "m1.add_control(dc)\n",
    "m1.add_layer(ipyleaflet.TileLayer(url = GetTileLayerUrl(\n",
    "    landsat_image.visualize(min = vizParam['min'], \n",
    "                            max = vizParam['max'], \n",
    "                            gamma = vizParam['gamma'], \n",
    "                            bands = vizParam['bands']))))\n",
    "m1"
   ]
  },
  {
   "cell_type": "code",
   "execution_count": null,
   "id": "df5e95ae",
   "metadata": {},
   "outputs": [],
   "source": [
    "# Labelling new manually added samples\n",
    "new_gdf = geopandas.GeoDataFrame.from_features(feature_collection)\n",
    "def assign_new_class(classname):\n",
    "    new_gdf['lat'] = new_gdf['geometry'].y\n",
    "    new_gdf['lon'] = new_gdf['geometry'].x\n",
    "    new_gdf['Class'] = classname\n",
    "interact_manual(assign_new_class, classname = class_assign)"
   ]
  },
  {
   "cell_type": "code",
   "execution_count": null,
   "id": "aa2f78d1",
   "metadata": {
    "scrolled": true
   },
   "outputs": [],
   "source": [
    "# Check new manually added samples\n",
    "new_gdf.drop(columns = ['style'])"
   ]
  },
  {
   "cell_type": "code",
   "execution_count": null,
   "id": "32bd9f2a",
   "metadata": {},
   "outputs": [],
   "source": [
    "# Merge new manually added samples into main geodataframe\n",
    "gdf.append(new_gdf).drop(columns = ['style'])\n",
    "gdf"
   ]
  },
  {
   "cell_type": "markdown",
   "id": "bf17f5d4",
   "metadata": {},
   "source": [
    "### Check dataframe\n",
    "Issue: qgrid (for displaying dataframe with scrolling and filtering function is not working)"
   ]
  },
  {
   "cell_type": "code",
   "execution_count": null,
   "id": "608d5cf0",
   "metadata": {},
   "outputs": [],
   "source": [
    "# Check after editing\n",
    "df = pandas.DataFrame(gdf)"
   ]
  },
  {
   "cell_type": "markdown",
   "id": "77508230-55b6-446d-bcee-b4c9c9b80aea",
   "metadata": {},
   "source": [
    "### Check labelled samples\n",
    "Issue: Pop-up is not working"
   ]
  },
  {
   "cell_type": "code",
   "execution_count": null,
   "id": "49472d3a-43e3-46a7-ab4f-8b3c797050d5",
   "metadata": {},
   "outputs": [],
   "source": [
    "# labelled samples\n",
    "lab = gdf[gdf['Class'].notnull()]\n",
    "unlab = gdf[gdf['Class'].isna()]\n",
    "geodata_lab = ipyleaflet.GeoData(geo_dataframe = lab, name = 'Labelled samples',\n",
    "                            point_style = {'radius': 2, 'color': None, 'fillOpacity': 1, 'fillColor': 'blue', 'weight': 3})\n",
    "geodata_unlab = ipyleaflet.GeoData(geo_dataframe = unlab, name = 'Unlabelled samples',\n",
    "                            point_style = {'radius': 2, 'color': None, 'fillOpacity': 1, 'fillColor': 'yellow', 'weight': 3})\n",
    "m1.add_layer(ipyleaflet.TileLayer(url = GetTileLayerUrl(\n",
    "    landsat_image.visualize(min = vizParam['min'], \n",
    "                            max = vizParam['max'], \n",
    "                            gamma = vizParam['gamma'], \n",
    "                            bands = vizParam['bands']))))\n",
    "m1.add_layer(geodata_lab)\n",
    "m1.add_layer(geodata_unlab)\n",
    "layer_control = ipyleaflet.LayersControl(position = 'topright')\n",
    "m1.add_control(layer_control)\n",
    "m1"
   ]
  },
  {
   "cell_type": "markdown",
   "id": "95d97af0",
   "metadata": {},
   "source": [
    "### Label encoding"
   ]
  },
  {
   "cell_type": "code",
   "execution_count": null,
   "id": "fdb5f385",
   "metadata": {},
   "outputs": [],
   "source": [
    "# export current results\n",
    "\n",
    "# Label encoding (sort from first row)\n",
    "df = gdf\n",
    "df['Class'] = df['Class'].astype('category')\n",
    "df['Class_code'] = df['Class'].cat.codes\n",
    "df.head()"
   ]
  },
  {
   "cell_type": "markdown",
   "id": "faea1901-6fb6-4010-88a9-e56018c05efb",
   "metadata": {},
   "source": [
    "### Export geodataframe into shapefile (local)"
   ]
  },
  {
   "cell_type": "code",
   "execution_count": null,
   "id": "1a2b8af5-d6d1-49f6-bc8f-be3a37b3cffe",
   "metadata": {},
   "outputs": [],
   "source": [
    "df.to_file(path_to_shp)"
   ]
  },
  {
   "cell_type": "markdown",
   "id": "12a7c2a9",
   "metadata": {},
   "source": [
    "### Export feature collection into GEE Asset"
   ]
  },
  {
   "cell_type": "code",
   "execution_count": null,
   "id": "4b319cfb",
   "metadata": {},
   "outputs": [],
   "source": [
    "# Export to Asset, later used as machine-learning classification input in GEE\n",
    "from datetime import date\n",
    "today = date.today()\n",
    "todaydate = today.strftime(\"%b-%d-%Y\")\n",
    "\n",
    "# Convert geodataframe to ee object\n",
    "ee_export = geemap.geopandas_to_ee(df)\n",
    "\n",
    "exportTask = ee.batch.Export.table.toAsset(\n",
    "    collection = ee_export,\n",
    "    description = str(todaydate) + '_' + studyArea + '_landcoverSamples',\n",
    "    assetId = asset_Id + description)\n",
    "exportTask.start()"
   ]
  },
  {
   "cell_type": "code",
   "execution_count": null,
   "id": "f8c5d0d0",
   "metadata": {},
   "outputs": [],
   "source": []
  }
 ],
 "metadata": {
  "interpreter": {
   "hash": "3a58b3e75800a6524d5250ab9a8703d8b87ad2c78c9cf22d4923ae8bbaece9fb"
  },
  "kernelspec": {
   "display_name": "Python 3 (ipykernel)",
   "language": "python",
   "name": "python3"
  },
  "language_info": {
   "codemirror_mode": {
    "name": "ipython",
    "version": 3
   },
   "file_extension": ".py",
   "mimetype": "text/x-python",
   "name": "python",
   "nbconvert_exporter": "python",
   "pygments_lexer": "ipython3",
   "version": "3.8.2"
  }
 },
 "nbformat": 4,
 "nbformat_minor": 5
}
