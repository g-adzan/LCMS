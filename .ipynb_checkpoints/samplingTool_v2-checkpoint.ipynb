{
 "cells": [
  {
   "cell_type": "markdown",
   "id": "ed6bd805",
   "metadata": {},
   "source": [
    "# Aplikasi Sampling Penutup Lahan\n",
    "## Bagian 2. Sampling tool (versi 2)\n",
    "\n",
    "2021-08-18\n",
    "\n",
    "Tool untuk assign class pada setiap titik sampel. Perbaikan dari versi sebelumnya dengan menambah fitur `interact_manual` dan juga opsi untuk menggunakan `Dropdown` yang lebih praktis dalam proses pengisian atribut yang tidak dilakukan sekali jalan."
   ]
  },
  {
   "cell_type": "code",
   "execution_count": 1,
   "id": "ae4069c2",
   "metadata": {},
   "outputs": [],
   "source": [
    "import geopandas\n",
    "from ipywidgets import widgets, interact, interactive, fixed, interact_manual\n",
    "from IPython.display import display, clear_output\n",
    "from ipyleaflet import WidgetControl\n",
    "import ipyleaflet\n",
    "import ee\n",
    "import geemap\n",
    "import numpy"
   ]
  },
  {
   "cell_type": "code",
   "execution_count": null,
   "id": "6c63b33c",
   "metadata": {
    "scrolled": true
   },
   "outputs": [],
   "source": [
    "# ee.Authenticate()"
   ]
  },
  {
   "cell_type": "code",
   "execution_count": 2,
   "id": "47ee6018",
   "metadata": {},
   "outputs": [],
   "source": [
    "ee.Initialize()"
   ]
  },
  {
   "cell_type": "code",
   "execution_count": 3,
   "id": "012f05e9",
   "metadata": {},
   "outputs": [],
   "source": [
    "def GetTileLayerUrl(ee_image_object):\n",
    "  map_id = ee.Image(ee_image_object).getMapId()\n",
    "  tile_fetcher = map_id["tile_fetcher"]\n",
    "  return tile_fetcher.url_format"
   ]
  },
  {
   "cell_type": "code",
   "execution_count": 17,
   "id": "574f79b2",
   "metadata": {},
   "outputs": [],
   "source": [
    "gdf = geopandas.read_file("./samples/Aug-06-2021_Borneo_2016_stratifiedsamples_15_1000.shp")\n",
    "gdf["ID"] = numpy.arange(len(gdf))\n",
    "gdf["lat"] = gdf["geometry"].y\n",
    "gdf["lon"] = gdf["geometry"].x\n",
    "gdf["Class"] = None\n",
    "id_list = gdf["ID"].tolist()\n",
    "\n",
    "landsat = ee.Image("users/kfaisal/LCMS_Borneo_2016/L8_Borneo_2016_int")"
   ]
  },
  {
   "cell_type": "markdown",
   "id": "4df0516e-6c36-43ef-bf35-5c8428f31056",
   "metadata": {},
   "source": [
    "### using `widgets.BoundedIntText` to select ID\n",
    "\n",
    "Metode ini ideal digunakan untuk pengisian atribut secara kontinyu. Pengisian dilakukan **satu persatu** dan **berurutan**. Pemilihan objek dilakukan berdasarkan ID. Id bisa dipilih melalui widget `BoundedIntText` dengan meng-klik tombol up atau down ataupun dengan mengetikkan angka OID. Pengisian kelas dilakukan dengan memilih tipe penutup lahan pada dropdown list dan kemudian meng-klik `Run Interact` untuk meng-update perubahan pada file geodataframe. Jika `Run Interact` tidak di-klik, maka perubahan tidak akan terjadi. Ini fitur yang membedakan dengan versi sebelumnya.\n",
    "\n",
    "Isu: jika menggunakan `ipyleaflet.WidgetControl` untuk menampilkan toolbar pada badan peta, fitur `Run Interact` tidak muncul. Sehingga untuk sementara `ipyleaflet.WidgetControl` tidak digunakan yang membuat estetika GUI sedikit berkurang."
   ]
  },
  {
   "cell_type": "code",
   "execution_count": 7,
   "id": "8a1076c5-b5d9-423e-8ea3-a8ff083a6fd1",
   "metadata": {},
   "outputs": [
    {
     "data": {
      "application/vnd.jupyter.widget-view+json": {
       "model_id": "ffa3443408934cf6812ba36f1e3edbd8",
       "version_major": 2,
       "version_minor": 0
      },
      "text/plain": [
       "interactive(children=(Dropdown(description="Class name:", options=("Forest", "No-forest"), value=None), Button…"
      ]
     },
     "metadata": {},
     "output_type": "display_data"
    },
    {
     "data": {
      "application/vnd.jupyter.widget-view+json": {
       "model_id": "0980b771a45f4240a42d2a521ec11038",
       "version_major": 2,
       "version_minor": 0
      },
      "text/plain": [
       "interactive(children=(BoundedIntText(value=0, description="Select ID", max=1000), Output()), _dom_classes=("wi…"
      ]
     },
     "metadata": {},
     "output_type": "display_data"
    },
    {
     "data": {
      "text/plain": [
       "<function __main__.filt_row(oid)>"
      ]
     },
     "execution_count": 7,
     "metadata": {},
     "output_type": "execute_result"
    }
   ],
   "source": [
    "# widgets\n",
    "oid_selector = widgets.BoundedIntText(0,0,1000,1, description = "Select ID")\n",
    "class_assign = widgets.Dropdown(options = ["Forest","No-forest"],\n",
    "                                description = "Class name:",\n",
    "                                value = None)\n",
    "out = widgets.Output()\n",
    "toolbar_widget = widgets.VBox([class_assign, out, oid_selector])\n",
    "toolbar_ctrl = WidgetControl(widget = toolbar_widget, position = \"topleft\")\n",
    "\n",
    "# interact\n",
    "def filt_row(oid):\n",
    "    map = geemap.Map()\n",
    "    gdf_obj = gdf.loc[gdf["ID"] == oid]\n",
    "    ee_obj = geemap.geopandas_to_ee(gdf_obj)\n",
    "    map.addLayer(landsat, {"bands": ["B5","B6","B7"],\n",
    "                           "min": 40,\n",
    "                           "max": 4000},\n",
    "                "Landsat image")\n",
    "    map.addLayer(ee_obj)\n",
    "    # map.add_control(toolbar_ctrl)\n",
    "    map.centerObject(ee_obj, 10)\n",
    "    # print("Selected ID: {}".format(oid))\n",
    "    print("Selected ID and Class name: {}".format(gdf.loc[gdf["ID"] == oid, "Class"]))\n",
    "    return map\n",
    "\n",
    "def assign_f(classname):\n",
    "    oid = oid_selector.value\n",
    "    gdf.loc[gdf["ID"] == oid, "Class"] = classname\n",
    "    print(gdf.loc[gdf["ID"] == oid])\n",
    "\n",
    "widgets.interact_manual(assign_f, classname = class_assign, gdf = widgets.fixed(gdf))\n",
    "widgets.interact(filt_row, oid = oid_selector)\n",
    "# toolbar_wid = widgets.HBox([oid_selector, class_assign])\n",
    "# display(toolbar_wid)"
   ]
  },
  {
   "cell_type": "code",
   "execution_count": null,
   "id": "015dd0e5",
   "metadata": {
    "scrolled": true,
    "tags": []
   },
   "outputs": [],
   "source": [
    "# Cek hasil pengisian kelas\n",
    "gdf.head(25)"
   ]
  },
  {
   "cell_type": "markdown",
   "id": "1086b5be-cdda-47b9-9bd6-01c08f061e3f",
   "metadata": {},
   "source": [
    "### using `widgets.Dropdown` to select id\n",
    "\n",
    "Metode ini menggunakan `Widgets.Dropdown` untuk memilih ID objek yang akan di-edit. Metode ini lebih efisien dibandingkan dengan `widgets.BoundedIntText` yang mengurutkan satu demi satu. Pada metode ini yang ditampilkan adalah list ID. Ini akan memudahkan ketika nantinya editing dilakukan tidak dalam sekali jalan. Pada pengisian berikutnya, dapat di-filter ID mana saja yang belum diisi, dan jikapun ada ID yang terlewat pengisiannya sebelumnya tidak akan menjadi masalah karena ID tidak diurutkan n+1 tapi berdasarkan posisi row (indeks)."
   ]
  },
  {
   "cell_type": "code",
   "execution_count": 8,
   "id": "a4b75395-5fdd-4c2f-b3cd-d2139f5e64b0",
   "metadata": {},
   "outputs": [
    {
     "data": {
      "application/vnd.jupyter.widget-view+json": {
       "model_id": "5a7161b573d14e6f97973c7ffb0f8b13",
       "version_major": 2,
       "version_minor": 0
      },
      "text/plain": [
       "interactive(children=(Dropdown(description="Class name:", options=("Forest", "No-forest"), value=None), Button…"
      ]
     },
     "metadata": {},
     "output_type": "display_data"
    },
    {
     "data": {
      "application/vnd.jupyter.widget-view+json": {
       "model_id": "5cdacb0ae81c4d8298978c9d4765fba8",
       "version_major": 2,
       "version_minor": 0
      },
      "text/plain": [
       "interactive(children=(Dropdown(description="Select ID:", options=(0, 1, 2, 3, 4, 5, 6, 7, 8, 9, 10, 11, 12, 13…"
      ]
     },
     "metadata": {},
     "output_type": "display_data"
    },
    {
     "data": {
      "text/plain": [
       "<function __main__.filt_row(oid)>"
      ]
     },
     "execution_count": 8,
     "metadata": {},
     "output_type": "execute_result"
    }
   ],
   "source": [
    "# widgets\n",
    "oid_selector = widgets.Dropdown(options = id_list,\n",
    "                                description = "Select ID:",\n",
    "                                value = id_list[0])\n",
    "class_assign = widgets.Dropdown(options = ["Forest","No-forest"],\n",
    "                                description = "Class name:",\n",
    "                                value = None)\n",
    "\n",
    "# interact\n",
    "def filt_row(oid):\n",
    "    map = geemap.Map()\n",
    "    gdf_obj = gdf.loc[gdf["ID"] == oid]\n",
    "    ee_obj = geemap.geopandas_to_ee(gdf_obj)\n",
    "    map.addLayer(landsat, {"bands": ["B5","B6","B7"],\n",
    "                           "min": 40,\n",
    "                           "max": 4000},\n",
    "                "Landsat image")\n",
    "    map.addLayer(ee_obj)\n",
    "    # map.add_control(toolbar_ctrl)\n",
    "    map.centerObject(ee_obj, 10)\n",
    "    # print("Selected ID: {}".format(oid))\n",
    "    print("Selected ID and Class name: {}".format(gdf.loc[gdf["ID"] == oid, "Class"]))\n",
    "    return map\n",
    "\n",
    "def assign_f(classname):\n",
    "    oid = oid_selector.value\n",
    "    gdf.loc[gdf["ID"] == oid, "Class"] = classname\n",
    "    print(gdf.loc[gdf["ID"] == oid])\n",
    "\n",
    "widgets.interact_manual(assign_f, classname = class_assign, gdf = widgets.fixed(gdf))\n",
    "widgets.interact(filt_row, oid = oid_selector)"
   ]
  },
  {
   "cell_type": "code",
   "execution_count": null,
   "id": "39e72cb2-a78b-4ac8-95a6-6c23af88c0d4",
   "metadata": {},
   "outputs": [],
   "source": [
    "gdf.head(25)"
   ]
  },
  {
   "cell_type": "code",
   "execution_count": null,
   "id": "bbd8ee94-fc2d-48a1-9702-2f4f08f2c9f2",
   "metadata": {},
   "outputs": [],
   "source": [
    "# export current results\n",
    "from datetime import date\n",
    "today = date.today()\n",
    "todaydate = today.strftime(\"%b-%d-%Y\")\n",
    "exportName = "Borneo"\n",
    "suffix = "v1"\n",
    "\n",
    "gdf.to_file("./temp_results/" + todaydate + "_samples_" + exportName + "_" + suffix + ".shp")"
   ]
  },
  {
   "cell_type": "markdown",
   "id": "5a89cdd0",
   "metadata": {},
   "source": [
    "### using `widgets.Button`\n",
    "\n",
    "Metode ini menggunakan `widgets.Button` untuk memilih objek berdasarkan ID. Ini mungkin metode yang paling ramah bagi pengguna."
   ]
  },
  {
   "cell_type": "code",
   "execution_count": 9,
   "id": "d53ddb57",
   "metadata": {},
   "outputs": [],
   "source": [
    "widget_width = \"250px\"\n",
    "padding = \"0px 0px 0px 4px\"  # upper, right, bottom, left"
   ]
  },
  {
   "cell_type": "code",
   "execution_count": 10,
   "id": "10e4b59a",
   "metadata": {},
   "outputs": [
    {
     "data": {
      "application/vnd.jupyter.widget-view+json": {
       "model_id": "698aa713f1684cfd83ee68225492bb67",
       "version_major": 2,
       "version_minor": 0
      },
      "text/plain": [
       "VBox(children=(HBox(children=(Button(button_style="info", description="Initial feature", icon="toggle-on", sty…"
      ]
     },
     "metadata": {},
     "output_type": "display_data"
    }
   ],
   "source": [
    "initButton = widgets.Button(\n",
    "    description = "Initial feature",\n",
    "    button_style = "info",\n",
    "    tooltip = "Initial feature",\n",
    "    icon = "toggle-on"\n",
    ")\n",
    "\n",
    "showButton = widgets.Button(\n",
    "    description = "Show map!",\n",
    "    button_style = "info",\n",
    "    tooltip = "Show map!",\n",
    "    icon = "toggle-on"\n",
    ")\n",
    "\n",
    "nextButton = widgets.Button(\n",
    "    description = "Next feature",\n",
    "    button_style = "info",\n",
    "    tooltip = "Next feature",\n",
    "    icon = "toggle-right"\n",
    ")\n",
    "\n",
    "prevButton = widgets.Button(\n",
    "    description = "Prev. feature",\n",
    "    button_style = "info",\n",
    "    tooltip = "Prev. feature",\n",
    "    icon = "toggle-left"\n",
    ")\n",
    "\n",
    "toolbar_widget = widgets.VBox()\n",
    "toolbar_widget.children = [\n",
    "    widgets.HBox([initButton, prevButton, nextButton])\n",
    "]\n",
    "\n",
    "toolbar_ctrl = WidgetControl(widget = toolbar_widget, padding = padding, widget_width = widget_width, position = \"topright\")\n",
    "display(toolbar_widget)"
   ]
  },
  {
   "cell_type": "code",
   "execution_count": 18,
   "id": "6d6999b7",
   "metadata": {},
   "outputs": [
    {
     "data": {
      "application/vnd.jupyter.widget-view+json": {
       "model_id": "adb5a100e5164a3a9f6bffcfd5bfdc9f",
       "version_major": 2,
       "version_minor": 0
      },
      "text/plain": [
       "Output()"
      ]
     },
     "metadata": {},
     "output_type": "display_data"
    },
    {
     "data": {
      "application/vnd.jupyter.widget-view+json": {
       "model_id": "75f49ce434ca490e874d2039e0cfbbe7",
       "version_major": 2,
       "version_minor": 0
      },
      "text/plain": [
       "HBox(children=(Button(button_style="info", description="Prev. feature", icon="toggle-left", style=ButtonStyle(…"
      ]
     },
     "metadata": {},
     "output_type": "display_data"
    },
    {
     "data": {
      "application/vnd.jupyter.widget-view+json": {
       "model_id": "eb4bca1b24db400795ecad1e83008d0f",
       "version_major": 2,
       "version_minor": 0
      },
      "text/plain": [
       "interactive(children=(Dropdown(description="Class name:", options=("Forest", "No-forest"), value=None), Button…"
      ]
     },
     "metadata": {},
     "output_type": "display_data"
    },
    {
     "data": {
      "application/vnd.jupyter.widget-view+json": {
       "model_id": "e7a0096856894dc294922526286c26f2",
       "version_major": 2,
       "version_minor": 0
      },
      "text/plain": [
       "Map(center=[0, 115], controls=(ZoomControl(options=["position", "zoom_in_text", "zoom_in_title", "zoom_out_tex…"
      ]
     },
     "metadata": {},
     "output_type": "display_data"
    }
   ],
   "source": [
    "out = widgets.Output()\n",
    "class_assign = widgets.Dropdown(options = ["Forest","No-forest"],\n",
    "                                description = "Class name:",\n",
    "                                value = None)\n",
    "\n",
    "idx = 0 # initial ID\n",
    "geodata = ipyleaflet.GeoData(geo_dataframe = gdf.loc[gdf["ID"] == 0], name = "Layer 0")\n",
    "\n",
    "m = ipyleaflet.Map(scroll_wheel_zoom = True)\n",
    "m.center = (0, 115)\n",
    "m.zoom = 7\n",
    "control = ipyleaflet.LayersControl(position="topright")\n",
    "m.add_control(control)\n",
    "m.add_layer(ipyleaflet.TileLayer(url = GetTileLayerUrl(\n",
    "    landsat.visualize(min = 400, max = 4000, gamma = 1.5, bands = ["B5","B6","B7"]))))\n",
    "m.add_layer(geodata)\n",
    "\n",
    "def next_button_clicked(b, incr = 1):\n",
    "    with out:\n",
    "        clear_output()\n",
    "        global idx\n",
    "        global geodata\n",
    "        print("prev id:", idx)\n",
    "        idx = idx + incr\n",
    "        print("current id:", idx)\n",
    "        m.remove_layer(geodata)\n",
    "        geodata = ipyleaflet.GeoData(geo_dataframe = gdf.loc[gdf["ID"] == id_list[idx]], name = "Layer " + str(id_list[idx]))\n",
    "        print(geodata)\n",
    "        m.add_layer(geodata)\n",
    "        sel = gdf.loc[gdf["ID"] == id_list[idx]]\n",
    "        lat = sel.iat[0,3]\n",
    "        lon = sel.iat[0,4]\n",
    "        m.center = (lat, lon)\n",
    "nextButton.on_click(next_button_clicked)\n",
    "\n",
    "def prev_button_clicked(b):\n",
    "    return next_button_clicked(b, -1)\n",
    "\n",
    "prevButton.on_click(prev_button_clicked)\n",
    "\n",
    "def assign_f(classname):\n",
    "    global idx\n",
    "    gdf.loc[gdf["ID"] == idx, "Class"] = classname\n",
    "    print(gdf.loc[gdf["ID"] == idx])\n",
    "\n",
    "display(out, widgets.HBox([prevButton, nextButton]))\n",
    "interact_manual(assign_f, classname = class_assign, gdf = widgets.fixed(gdf))\n",
    "\n",
    "m\n"
   ]
  },
  {
   "cell_type": "code",
   "execution_count": null,
   "id": "c94ab478",
   "metadata": {},
   "outputs": [],
   "source": [
    "gdf.head()"
   ]
  },
  {
   "cell_type": "markdown",
   "id": "8071e023-be30-4d4d-a56e-de02b5ef24ad",
   "metadata": {},
   "source": [
    "## Melanjutkan proses editing"
   ]
  },
  {
   "cell_type": "code",
   "execution_count": null,
   "id": "6ef0f8fd-ebd2-4541-b0c8-d29b41f196b1",
   "metadata": {},
   "outputs": [],
   "source": [
    "# memanggil file hasil pengisian kelas yang telah dilakukan sebelumnya\n",
    "gdf_v1 = geopandas.read_file("./temp_results/Aug-22-2021_samples_Borneo_v1.shp")\n",
    "\n",
    "# filter rows yang belum diisi kelasnya\n",
    "filt_gdf_v1 = gdf_v1[gdf_v1["Class"].isna()] \n",
    "filt_id_list = filt_gdf_v1["ID"].tolist()\n",
    "filt_gdf_v1.head()"
   ]
  },
  {
   "cell_type": "code",
   "execution_count": null,
   "id": "5e43b5b3-8756-4851-93ba-8cc46f97dbd7",
   "metadata": {},
   "outputs": [],
   "source": [
    "# widgets\n",
    "oid_selector = widgets.Dropdown(options = filt_id_list,\n",
    "                                description = "Select ID:",\n",
    "                                value = filt_id_list[0])\n",
    "class_assign = widgets.Dropdown(options = ["Forest","No-forest"],\n",
    "                                description = "Class name:",\n",
    "                                value = None)\n",
    "\n",
    "# interact\n",
    "def filt_row(oid):\n",
    "    map = geemap.Map()\n",
    "    gdf_obj = gdf.loc[gdf["ID"] == oid]\n",
    "    ee_obj = geemap.geopandas_to_ee(gdf_obj)\n",
    "    map.addLayer(landsat, {"bands": ["B5","B6","B7"],\n",
    "                           "min": 40,\n",
    "                           "max": 4000},\n",
    "                "Landsat image")\n",
    "    map.addLayer(ee_obj)\n",
    "    # map.add_control(toolbar_ctrl)\n",
    "    map.centerObject(ee_obj, 10)\n",
    "    # print("Selected ID: {}".format(oid))\n",
    "    print("Selected ID and Class name: {}".format(gdf.loc[gdf["ID"] == oid, "Class"]))\n",
    "    return map\n",
    "\n",
    "def assign_f(classname):\n",
    "    oid = oid_selector.value\n",
    "    gdf.loc[gdf["ID"] == oid, "Class"] = classname\n",
    "    print(gdf.loc[gdf["ID"] == oid])\n",
    "\n",
    "widgets.interact_manual(assign_f, classname = class_assign, gdf = widgets.fixed(gdf))\n",
    "widgets.interact(filt_row, oid = oid_selector)"
   ]
  },
  {
   "cell_type": "code",
   "execution_count": null,
   "id": "db6452f9-62ce-4655-beea-b23db3997f11",
   "metadata": {},
   "outputs": [],
   "source": [
    "gdf.head()"
   ]
  },
  {
   "cell_type": "code",
   "execution_count": null,
   "id": "99bbb5f8-9b98-4f4c-8263-5e06504697f8",
   "metadata": {},
   "outputs": [],
   "source": [
    "# export current results\n",
    "from datetime import date\n",
    "today = date.today()\n",
    "todaydate = today.strftime(\"%b-%d-%Y\")\n",
    "exportName = "Borneo"\n",
    "suffix = "v2"\n",
    "\n",
    "gdf.to_file("./temp_results/" + todaydate + "_samples_" + exportName + "_" + suffix + ".shp")"
   ]
  },
  {
   "cell_type": "code",
   "execution_count": null,
   "id": "ea87e6bd-76a7-4f0d-bf80-7b30c149b6bd",
   "metadata": {},
   "outputs": [],
   "source": [
    "# Export to Asset, later used as machine-learning classification input in GEE\n",
    "from datetime import date\n",
    "today = date.today()\n",
    "todaydate = today.strftime(\"%b-%d-%Y\")\n",
    "\n",
    "# define output file name\n",
    "exportName = "Borneo"\n",
    "\n",
    "# Convert geodataframe to ee object\n",
    "ee_export = geemap.geopandas_to_ee(randsamp)\n",
    "\n",
    "exportTask = ee.batch.Export.table.toAsset(\n",
    "    collection = ee_export,\n",
    "    description = todaydate + "_" + exportName + "_forestCoverSamples",\n",
    "    assetId = "users/gemasaktiadzan/2021-08-08_Borneo_forestCoverSamples")\n",
    "exportTask.start()"
   ]
  }
 ],
 "metadata": {
  "interpreter": {
   "hash": "3a58b3e75800a6524d5250ab9a8703d8b87ad2c78c9cf22d4923ae8bbaece9fb"
  },
  "kernelspec": {
   "display_name": "Python 3 (ipykernel)",
   "language": "python",
   "name": "python3"
  },
  "language_info": {
   "codemirror_mode": {
    "name": "ipython",
    "version": 3
   },
   "file_extension": ".py",
   "mimetype": "text/x-python",
   "name": "python",
   "nbconvert_exporter": "python",
   "pygments_lexer": "ipython3",
   "version": "3.8.11"
  }
 },
 "nbformat": 4,
 "nbformat_minor": 5
}
