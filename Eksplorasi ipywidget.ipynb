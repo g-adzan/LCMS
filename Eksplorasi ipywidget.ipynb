{
 "cells": [
  {
   "cell_type": "markdown",
   "id": "f2092349-aae0-4eb1-8e3d-c7d3f9cc909d",
   "metadata": {},
   "source": [
    "# Eksplorasi ipywidget"
   ]
  },
  {
   "cell_type": "code",
   "execution_count": 10,
   "id": "c9cd5af5-586c-43a8-a09f-22045a2e04f2",
   "metadata": {},
   "outputs": [],
   "source": [
    "import ipywidgets as widgets\n",
    "import geopandas\n",
    "import numpy\n",
    "from IPython.display import clear_output\n",
    "import geemap\n",
    "import ee\n",
    "from ipyleaflet import WidgetControl\n",
    "import ipyleaflet\n",
    "from traitlets import traitlets"
   ]
  },
  {
   "cell_type": "code",
   "execution_count": 2,
   "id": "efaa8acd-c39c-439c-aa5a-28106e079b65",
   "metadata": {},
   "outputs": [],
   "source": [
    "# ee.Authenticate\n",
    "ee.Initialize()"
   ]
  },
  {
   "cell_type": "code",
   "execution_count": 3,
   "id": "3c995cb9-8b27-4fd9-90e7-01abbc0ae5e8",
   "metadata": {},
   "outputs": [],
   "source": [
    "gdf = geopandas.read_file('./samples/Aug-06-2021_Borneo_2016_stratifiedsamples_15_1000.shp')\n",
    "gdf['ID'] = numpy.arange(len(gdf))\n",
    "id_list = gdf['ID'].tolist()"
   ]
  },
  {
   "cell_type": "markdown",
   "id": "b60b7170-ba5a-4a40-b570-991f9a150e70",
   "metadata": {
    "tags": []
   },
   "source": [
    "## `Button` <em>widgets</em> untuk memilih <em>next</em> dan <em>previous features</em>"
   ]
  },
  {
   "cell_type": "code",
   "execution_count": 13,
   "id": "47e3187f-de4d-47ff-8994-8e06ee1b9c74",
   "metadata": {},
   "outputs": [
    {
     "data": {
      "application/vnd.jupyter.widget-view+json": {
       "model_id": "95f98ae05128473ea1db21233da0e3fc",
       "version_major": 2,
       "version_minor": 0
      },
      "text/plain": [
       "VBox(children=(HBox(children=(Button(description='Up', style=ButtonStyle()), Button(description='Down', style=…"
      ]
     },
     "metadata": {},
     "output_type": "display_data"
    }
   ],
   "source": [
    "up_button = widgets.Button(description = \"Up\")\n",
    "down_button = widgets.Button(description = \"Down\")\n",
    "out = widgets.Output()\n",
    "\n",
    "count = 0\n",
    "\n",
    "def up_button_clicked(_, incr = 1):\n",
    "    with out:\n",
    "        global count\n",
    "        count += incr\n",
    "        selected = gdf[gdf['ID'] == count]\n",
    "        clear_output()\n",
    "        print(selected)\n",
    "\n",
    "up_button.on_click(up_button_clicked)\n",
    "\n",
    "def down_button_clicked(_):\n",
    "    return up_button_clicked(_, -1)\n",
    "\n",
    "down_button.on_click(down_button_clicked)\n",
    "\n",
    "buttons = widgets.HBox([up_button, down_button])\n",
    "widgets.VBox([buttons, out])"
   ]
  },
  {
   "cell_type": "markdown",
   "id": "466f2758-1fac-4783-9a66-94ea3cf5e422",
   "metadata": {},
   "source": [
    "## Memilih id dari list dengan `Button`"
   ]
  },
  {
   "cell_type": "code",
   "execution_count": 16,
   "id": "cd45ec5c-f90f-4a9b-bded-685c6331f7d6",
   "metadata": {},
   "outputs": [
    {
     "data": {
      "application/vnd.jupyter.widget-view+json": {
       "model_id": "5f37764a682b4f8eb7a1992cd2ea808d",
       "version_major": 2,
       "version_minor": 0
      },
      "text/plain": [
       "VBox(children=(HBox(children=(Button(description='Up', style=ButtonStyle()), Button(description='Down', style=…"
      ]
     },
     "metadata": {},
     "output_type": "display_data"
    }
   ],
   "source": [
    "# print id from list\n",
    "\n",
    "up_button = widgets.Button(description = \"Up\")\n",
    "down_button = widgets.Button(description = \"Down\")\n",
    "out = widgets.Output()\n",
    "\n",
    "count = 0\n",
    "\n",
    "def up_button_clicked(_, incr = 1):\n",
    "    with out:\n",
    "        global count\n",
    "        count += incr\n",
    "        selected = id_list[count]\n",
    "        clear_output()\n",
    "        print(selected)\n",
    "\n",
    "up_button.on_click(up_button_clicked)\n",
    "\n",
    "def down_button_clicked(_):\n",
    "    return up_button_clicked(_, -1)\n",
    "\n",
    "down_button.on_click(down_button_clicked)\n",
    "\n",
    "buttons = widgets.HBox([up_button, down_button])\n",
    "widgets.VBox([buttons, out])"
   ]
  },
  {
   "cell_type": "markdown",
   "id": "88a8ce23-9017-4561-92c3-c8c0f0b1a6cf",
   "metadata": {
    "tags": []
   },
   "source": [
    "## `Button` <em>widgets</em> untuk query objek pada peta ##"
   ]
  },
  {
   "cell_type": "code",
   "execution_count": 4,
   "id": "428727c0-f400-4978-9754-47a382c207c3",
   "metadata": {},
   "outputs": [],
   "source": [
    "widget_width = \"250px\"\n",
    "padding = \"0px 0px 0px 4px\"  # upper, right, bottom, left"
   ]
  },
  {
   "cell_type": "code",
   "execution_count": 8,
   "id": "562d9dc5-9caa-46e1-b495-4b1997c24379",
   "metadata": {},
   "outputs": [
    {
     "data": {
      "application/vnd.jupyter.widget-view+json": {
       "model_id": "5cf4351e89304824a9288c41e696c698",
       "version_major": 2,
       "version_minor": 0
      },
      "text/plain": [
       "VBox(children=(HBox(children=(Button(button_style='info', description='Prev. feature', icon='toggle-left', sty…"
      ]
     },
     "metadata": {},
     "output_type": "display_data"
    }
   ],
   "source": [
    "nextButton = widgets.Button(\n",
    "    description = 'Next feature',\n",
    "    button_style = 'info',\n",
    "    tooltip = 'Next feature',\n",
    "    icon = 'toggle-right'\n",
    ")\n",
    "\n",
    "prevButton = widgets.Button(\n",
    "    description = 'Prev. feature',\n",
    "    button_style = 'info',\n",
    "    tooltip = 'Prev. feature',\n",
    "    icon = 'toggle-left'\n",
    ")\n",
    "\n",
    "toolbar_widget = widgets.VBox()\n",
    "toolbar_widget.children = [\n",
    "    widgets.HBox([prevButton, nextButton])\n",
    "]\n",
    "\n",
    "toolbar_ctrl = WidgetControl(widget = toolbar_widget, position = \"topright\")\n",
    "display(toolbar_widget)"
   ]
  },
  {
   "cell_type": "code",
   "execution_count": 11,
   "id": "1fa74a85-b691-4cf3-a66e-cd998ced3cc9",
   "metadata": {},
   "outputs": [],
   "source": [
    "class nextButton(widgets.Button):\n",
    "    def __init__(self, value = None, *args, **kwargs):\n",
    "        super(nextButton, self).__init__(*args, **kwargs)\n",
    "        self.add_traits(value = traitlets.Any(value))\n",
    "\n",
    "def add_num(ex):\n",
    "    ex.value = ex.value + 1\n",
    "    return ex.value"
   ]
  },
  {
   "cell_type": "code",
   "execution_count": 12,
   "id": "c24d5956-0b13-496d-b630-cb62cbc5e09d",
   "metadata": {},
   "outputs": [
    {
     "ename": "SyntaxError",
     "evalue": "invalid syntax (Temp/ipykernel_9620/4231286927.py, line 10)",
     "output_type": "error",
     "traceback": [
      "\u001b[1;36m  File \u001b[1;32m\"C:\\Users\\gemas\\AppData\\Local\\Temp/ipykernel_9620/4231286927.py\"\u001b[1;36m, line \u001b[1;32m10\u001b[0m\n\u001b[1;33m    def next_button_clicked(add_num(idx)):\u001b[0m\n\u001b[1;37m                                   ^\u001b[0m\n\u001b[1;31mSyntaxError\u001b[0m\u001b[1;31m:\u001b[0m invalid syntax\n"
     ]
    }
   ],
   "source": [
    "ipyl_map = ipyleaflet.Map(scroll_wheel_zoom = True)\n",
    "ipyl_map.zoom = 5\n",
    "ipyl_map.center = (0, 115)\n",
    "idx = 0\n",
    "nb = nextButton(description = 'Next', value = idx)\n",
    "sel_gdf = gdf[gdf['ID'] == idx]\n",
    "sel_geodata = ipyleaflet.GeoData(geo_dataframe = sel_gdf)\n",
    "ipyl_map.add_layer(sel_geodata)\n",
    "\n",
    "def next_button_clicked(add_num(idx)):\n",
    "    # global idx\n",
    "    sel_gdf = gdf[gdf['ID'] == idx]\n",
    "    sel_geodata = ipyleaflet.GeoData(geo_dataframe = sel_gdf)\n",
    "    ipyl_map.add_layer(sel_geodata)\n",
    "    return ipyl_map\n",
    "\n",
    "nextButton.on_click(next_button_clicked)\n",
    "ipyl_map.add_control(toolbar_ctrl)\n",
    "ipyl_map"
   ]
  },
  {
   "cell_type": "markdown",
   "id": "72d0e13a-751e-45c2-b45d-95de727029d2",
   "metadata": {
    "tags": []
   },
   "source": [
    "## `widgets.interact` (it works, but...) ##\n",
    "Note:\n",
    "\n",
    "1. Menggunakan `widgets.BoundedIntText` untuk memilih object berdasarkan ID dan menggunakan `widgets.interact`.\n",
    "2. Menggunakan `widgets.interact` untuk memilih kelas penutup lahan dan menggunakan `widgets.interact_manual` untuk melakukan assignment berdasarkan tombol trigger.\n",
    "\n",
    "Isu:\n",
    "1. Metode ini efektif ketika digunakan untuk mengisi atribut **satu persatu**, secara **berurutan** dan sekali jalan. Jika terdapat objek titik yang terlewati, maka akan cukup repot untuk melakukan pencarian dikarenakan query data menggunakan interval object ID = 1 (bukan next feature).\n",
    "2. `ipyleaflet.WidgetControl` muncul di dua tempat."
   ]
  },
  {
   "cell_type": "code",
   "execution_count": null,
   "id": "23da50e4-fbb2-4a27-8e50-e8b9daae069d",
   "metadata": {},
   "outputs": [],
   "source": [
    "# ee.Authenticate()\n",
    "ee.Initialize()"
   ]
  },
  {
   "cell_type": "code",
   "execution_count": null,
   "id": "5daac1ec-06a6-4ab0-9811-5f73b15d0a27",
   "metadata": {},
   "outputs": [],
   "source": [
    "# geemap\n",
    "\n",
    "# widgets\n",
    "oid_selector = widgets.BoundedIntText(0,0,1000,1)\n",
    "class_assign = widgets.Dropdown(options = ['Forest','No-forest'],\n",
    "                                description = 'Class name:',\n",
    "                                value = None)\n",
    "\n",
    "# interact\n",
    "def filt_row(oid):\n",
    "    map = geemap.Map()\n",
    "    gdf_obj = gdf.loc[gdf['ID'] == oid]\n",
    "    ee_obj = geemap.geopandas_to_ee(gdf_obj)\n",
    "    map.addLayer(ee_obj)\n",
    "    # map.add_control(toolbar_ctrl)\n",
    "    map.centerObject(ee_obj, 10)\n",
    "    print('Selected ID: {}'.format(oid))\n",
    "    return map\n",
    "\n",
    "def assign_f(classname):\n",
    "    oid = oid_selector.value\n",
    "    gdf.loc[gdf['ID'] == oid, 'Class'] = classname\n",
    "\n",
    "widgets.interact(filt_row, oid = oid_selector)\n",
    "widgets.interact_manual(assign_f, classname = class_assign, gdf = widgets.fixed(gdf))"
   ]
  },
  {
   "cell_type": "code",
   "execution_count": null,
   "id": "94983584-b9ef-42a5-b828-7fc407950a11",
   "metadata": {},
   "outputs": [],
   "source": [
    "# ipyleaflet\n",
    "\n",
    "# widgets\n",
    "oid_selector = widgets.BoundedIntText(0,0,1000,1)\n",
    "class_assign = widgets.Dropdown(options = ['Forest','No-forest'],\n",
    "                                description = 'Class name:',\n",
    "                                value = None)\n",
    "toolbar_widget = widgets.VBox([oid_selector, class_assign])\n",
    "toolbar_control = WidgetControl(widget = toolbar_widget, position = \"topleft\")\n",
    "\n",
    "# interact\n",
    "def filt_row(oid):\n",
    "    m = ipyleaflet.Map()\n",
    "    gdf_obj = gdf.loc[gdf['ID'] == oid]\n",
    "    # ee_obj = geemap.geopandas_to_ee(gdf_obj)\n",
    "    geo_obj = ipyleaflet.GeoData(geo_dataframe = gdf_obj)\n",
    "    m.add_layer(geo_obj)\n",
    "    lonCent = (gdf_obj.bounds.maxx + gdf_obj.bounds.minx).mean()/2\n",
    "    latCent = (gdf_obj.bounds.maxy + gdf_obj.bounds.miny).mean()/2\n",
    "    m.center = (latCent,lonCent)\n",
    "    m.add_control(toolbar_control)\n",
    "    # map.centerObject(ee_obj, 10)\n",
    "    print('Selected ID: {}'.format(oid))\n",
    "    return m\n",
    "\n",
    "def assign_f(classname):\n",
    "    oid = oid_selector.value\n",
    "    gdf.loc[gdf['ID'] == oid, 'Class'] = classname\n",
    "\n",
    "widgets.interact(filt_row, oid = oid_selector)\n",
    "widgets.interact_manual(assign_f, classname = class_assign, gdf = widgets.fixed(gdf))"
   ]
  },
  {
   "cell_type": "code",
   "execution_count": null,
   "id": "858ab4b5-e0a9-4e0f-930b-cf0ad7d83208",
   "metadata": {},
   "outputs": [],
   "source": [
    "gdf.head()"
   ]
  },
  {
   "cell_type": "code",
   "execution_count": null,
   "id": "244fd714-a205-42c0-84b6-366293f20c69",
   "metadata": {},
   "outputs": [],
   "source": []
  }
 ],
 "metadata": {
  "kernelspec": {
   "display_name": "Python 3 (ipykernel)",
   "language": "python",
   "name": "python3"
  },
  "language_info": {
   "codemirror_mode": {
    "name": "ipython",
    "version": 3
   },
   "file_extension": ".py",
   "mimetype": "text/x-python",
   "name": "python",
   "nbconvert_exporter": "python",
   "pygments_lexer": "ipython3",
   "version": "3.8.11"
  }
 },
 "nbformat": 4,
 "nbformat_minor": 5
}
