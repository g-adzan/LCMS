{
 "cells": [
  {
   "cell_type": "markdown",
   "id": "f2092349-aae0-4eb1-8e3d-c7d3f9cc909d",
   "metadata": {},
   "source": [
    "# Eksplorasi ipywidget"
   ]
  },
  {
   "cell_type": "code",
   "execution_count": null,
   "id": "c9cd5af5-586c-43a8-a09f-22045a2e04f2",
   "metadata": {},
   "outputs": [],
   "source": [
    "import ipywidgets as widgets\n",
    "import geopandas\n",
    "import numpy\n",
    "from IPython.display import clear_output\n",
    "import geemap\n",
    "import ee\n",
    "from ipyleaflet import WidgetControl\n",
    "import ipyleaflet\n",
    "from traitlets import traitlets"
   ]
  },
  {
   "cell_type": "code",
   "execution_count": null,
   "id": "efaa8acd-c39c-439c-aa5a-28106e079b65",
   "metadata": {},
   "outputs": [],
   "source": [
    "# ee.Authenticate\n",
    "ee.Initialize()"
   ]
  },
  {
   "cell_type": "code",
   "execution_count": null,
   "id": "3c995cb9-8b27-4fd9-90e7-01abbc0ae5e8",
   "metadata": {},
   "outputs": [],
   "source": [
    "gdf = geopandas.read_file('./samples/Aug-06-2021_Borneo_2016_stratifiedsamples_15_1000.shp')\n",
    "gdf['ID'] = numpy.arange(len(gdf))\n",
    "id_list = gdf['ID'].tolist()"
   ]
  },
  {
   "cell_type": "markdown",
   "id": "b60b7170-ba5a-4a40-b570-991f9a150e70",
   "metadata": {
    "tags": []
   },
   "source": [
    "## `Button` <em>widgets</em> untuk memilih <em>next</em> dan <em>previous features</em>"
   ]
  },
  {
   "cell_type": "code",
   "execution_count": null,
   "id": "7f471410",
   "metadata": {},
   "outputs": [],
   "source": [
    "up_button = widgets.Button(description = \"Up\")\n",
    "down_button = widgets.Button(description = \"Down\")\n",
    "init_button = widgets.Button(description = \"Initial\")\n",
    "out = widgets.Output()\n",
    "\n",
    "count = 0\n",
    "\n",
    "def init_clicked(_):\n",
    "    with out:\n",
    "        count = 0\n",
    "        selected = gdf[gdf['ID'] == count]\n",
    "        clear_output()\n",
    "        print(selected)\n",
    "\n",
    "init_button.on_click(init_clicked)\n",
    "\n",
    "def up_button_clicked(_, incr = 1):\n",
    "    with out:\n",
    "        global count\n",
    "        count += incr\n",
    "        selected = gdf[gdf['ID'] == count]\n",
    "        clear_output()\n",
    "        print(selected)\n",
    "\n",
    "up_button.on_click(up_button_clicked)\n",
    "\n",
    "def down_button_clicked(_):\n",
    "    return up_button_clicked(_, -1)\n",
    "\n",
    "down_button.on_click(down_button_clicked)\n",
    "\n",
    "buttons = widgets.HBox([init_button, up_button, down_button])\n",
    "widgets.VBox([buttons, out])"
   ]
  },
  {
   "cell_type": "markdown",
   "id": "466f2758-1fac-4783-9a66-94ea3cf5e422",
   "metadata": {},
   "source": [
    "## Memilih id dari list dengan `Button`"
   ]
  },
  {
   "cell_type": "code",
   "execution_count": null,
   "id": "cd45ec5c-f90f-4a9b-bded-685c6331f7d6",
   "metadata": {},
   "outputs": [],
   "source": [
    "# print id from list\n",
    "\n",
    "up_button = widgets.Button(description = \"Up\")\n",
    "down_button = widgets.Button(description = \"Down\")\n",
    "initial_button = widgets.Button(description = \"Initial\")\n",
    "out = widgets.Output()\n",
    "\n",
    "count = 0\n",
    "\n",
    "def init_clicked(_):\n",
    "    with out:\n",
    "        count = 0\n",
    "        selected = selected = id_list[count]\n",
    "        clear_output()\n",
    "        print(selected)\n",
    "\n",
    "init_button.on_click(init_clicked)\n",
    "\n",
    "def up_button_clicked(_, incr = 1):\n",
    "    with out:\n",
    "        global count\n",
    "        count += incr\n",
    "        selected = id_list[count]\n",
    "        clear_output()\n",
    "        print(selected)\n",
    "\n",
    "up_button.on_click(up_button_clicked)\n",
    "\n",
    "def down_button_clicked(_):\n",
    "    return up_button_clicked(_, -1)\n",
    "\n",
    "down_button.on_click(down_button_clicked)\n",
    "\n",
    "buttons = widgets.HBox([init_button, up_button, down_button])\n",
    "widgets.VBox([buttons, out])"
   ]
  },
  {
   "source": [
    "## `Button` <em>widgets</em> untuk query objek pada peta ##\n",
    "Berbeda dengan numeric widgets, `Button` tidak menyimpan atribut value. Dalam metode ini `Button` digunakan sebagai trigger untuk menjalankan function."
   ],
   "cell_type": "markdown",
   "metadata": {
    "tags": []
   }
  },
  {
   "cell_type": "code",
   "execution_count": null,
   "id": "428727c0-f400-4978-9754-47a382c207c3",
   "metadata": {},
   "outputs": [],
   "source": [
    "widget_width = \"250px\"\n",
    "padding = \"0px 0px 0px 4px\"  # upper, right, bottom, left"
   ]
  },
  {
   "cell_type": "code",
   "execution_count": null,
   "id": "562d9dc5-9caa-46e1-b495-4b1997c24379",
   "metadata": {},
   "outputs": [],
   "source": [
    "initButton = widgets.Button(\n",
    "    description = 'Initial feature',\n",
    "    button_style = 'info',\n",
    "    tooltip = 'Initial feature',\n",
    "    icon = 'toggle-on'\n",
    ")\n",
    "\n",
    "showButton = widgets.Button(\n",
    "    description = 'Show map!',\n",
    "    button_style = 'info',\n",
    "    tooltip = 'Show map!',\n",
    "    icon = 'toggle-on'\n",
    ")\n",
    "\n",
    "nextButton = widgets.Button(\n",
    "    description = 'Next feature',\n",
    "    button_style = 'info',\n",
    "    tooltip = 'Next feature',\n",
    "    icon = 'toggle-right'\n",
    ")\n",
    "\n",
    "prevButton = widgets.Button(\n",
    "    description = 'Prev. feature',\n",
    "    button_style = 'info',\n",
    "    tooltip = 'Prev. feature',\n",
    "    icon = 'toggle-left'\n",
    ")\n",
    "\n",
    "toolbar_widget = widgets.VBox()\n",
    "toolbar_widget.children = [\n",
    "    widgets.HBox([initButton, prevButton, nextButton])\n",
    "]\n",
    "\n",
    "toolbar_ctrl = WidgetControl(widget = toolbar_widget, padding = padding, widget_width = widget_width, position = \"topright\")\n",
    "display(toolbar_widget)"
   ]
  },
  {
   "cell_type": "code",
   "execution_count": null,
   "id": "9b64e237-8b3c-44c5-bb2e-b105d579030e",
   "metadata": {
    "scrolled": false
   },
   "outputs": [],
   "source": [
    "# Percobaan substitute layer dengan trigger button (ipyleaflet)\n",
    "\n",
    "gdf = geopandas.read_file('./samples/Aug-06-2021_Borneo_2016_stratifiedsamples_15_1000.shp')\n",
    "gdf['ID'] = numpy.arange(len(gdf))\n",
    "geodata_0 = ipyleaflet.GeoData(geo_dataframe = gdf[gdf['ID'] == 0], name = 'Layer 0')\n",
    "geodata_1 = ipyleaflet.GeoData(geo_dataframe = gdf[gdf['ID'] == 1], name = 'Layer 1')\n",
    "\n",
    "m = ipyleaflet.Map(scroll_wheel_zoom = True)\n",
    "m.center = (0, 115)\n",
    "m.zoom = 7\n",
    "control = ipyleaflet.LayersControl(position='topright')\n",
    "m.add_control(control)\n",
    "m.add_layer(geodata_0)\n",
    "\n",
    "def next_button_clicked(b):\n",
    "    m.substitute_layer(geodata_0, geodata_1)\n",
    "nextButton.on_click(next_button_clicked)\n",
    "display(nextButton)\n",
    "m"
   ]
  },
  {
   "cell_type": "code",
   "execution_count": null,
   "metadata": {},
   "outputs": [],
   "source": [
    "# Percobaan substitute layer dengan trigger button, namun kali ini menggunakan function yang lebih kompleks\n",
    "\n",
    "gdf = geopandas.read_file('./samples/Aug-06-2021_Borneo_2016_stratifiedsamples_15_1000.shp')\n",
    "gdf['ID'] = numpy.arange(len(gdf))\n",
    "id_list = gdf['ID'].tolist()\n",
    "\n",
    "out = widgets.Output()\n",
    "\n",
    "idx = 0 # initial ID\n",
    "geodata = ipyleaflet.GeoData(geo_dataframe = gdf.loc[gdf['ID'] == 0], name = 'Layer 0')\n",
    "\n",
    "m = ipyleaflet.Map(scroll_wheel_zoom = True)\n",
    "m.center = (0, 115)\n",
    "m.zoom = 7\n",
    "control = ipyleaflet.LayersControl(position='topright')\n",
    "m.add_control(control)\n",
    "m.add_layer(geodata)\n",
    "\n",
    "def next_button_clicked(b, incr = 1):\n",
    "    with out:\n",
    "        clear_output()\n",
    "        global idx\n",
    "        global geodata\n",
    "        print('prev id:', idx)\n",
    "        idx = idx + incr\n",
    "        print('current id:', idx)\n",
    "        m.remove_layer(geodata)\n",
    "        geodata = ipyleaflet.GeoData(geo_dataframe = gdf.loc[gdf['ID'] == id_list[idx]], name = 'Layer ' + str(id_list[idx]))\n",
    "        print(geodata)\n",
    "        m.add_layer(geodata)\n",
    "\n",
    "nextButton.on_click(next_button_clicked)\n",
    "\n",
    "def prev_button_clicked(b):\n",
    "    return next_button_clicked(b, -1)\n",
    "\n",
    "prevButton.on_click(prev_button_clicked)\n",
    "\n",
    "display(out, widgets.HBox([prevButton, nextButton]))\n",
    "\n",
    "m\n"
   ]
  },
  {
   "cell_type": "code",
   "execution_count": null,
   "id": "273a850c-0c6f-4485-9afb-5c8e193f2e22",
   "metadata": {},
   "outputs": [],
   "source": [
    "ee_obj = geemap.geopandas_to_ee(gdf)\n",
    "ee_obj1 = geemap.geopandas_to_ee(gdf)\n",
    "\n",
    "shp = './samples/Aug-06-2021_Borneo_2016_stratifiedsamples_15_1000.shp'\n",
    "\n",
    "peta = geemap.Map()\n",
    "# peta.addLayer(ee_obj, {}, 'Layer 0')\n",
    "peta.add_shapefile(shp, 'layer shp')\n",
    "# peta.centerObject(ee_obj)\n",
    "peta.setCenter(115, 0)\n",
    "peta"
   ]
  },
  {
   "cell_type": "code",
   "execution_count": null,
   "id": "8bf49c18-c9bd-4e83-a94d-a3265eeef679",
   "metadata": {},
   "outputs": [],
   "source": [
    "peta.substitute_layer(ee_obj, ee_obj1)"
   ]
  },
  {
   "cell_type": "code",
   "execution_count": null,
   "id": "d0e5ef17-cbbf-43d7-9b7e-2990af0e7641",
   "metadata": {},
   "outputs": [],
   "source": []
  },
  {
   "cell_type": "markdown",
   "id": "72d0e13a-751e-45c2-b45d-95de727029d2",
   "metadata": {
    "tags": []
   },
   "source": [
    "## `widgets.interact` (it works, but...) ##\n",
    "Note:\n",
    "\n",
    "1. Menggunakan `widgets.BoundedIntText` untuk memilih object berdasarkan ID dan menggunakan `widgets.interact`.\n",
    "2. Menggunakan `widgets.interact` untuk memilih kelas penutup lahan dan menggunakan `widgets.interact_manual` untuk melakukan assignment berdasarkan tombol trigger.\n",
    "\n",
    "Isu:\n",
    "1. Metode ini efektif ketika digunakan untuk mengisi atribut **satu persatu**, secara **berurutan** dan sekali jalan. Jika terdapat objek titik yang terlewati, maka akan cukup repot untuk melakukan pencarian dikarenakan query data menggunakan interval object ID = 1 (bukan next feature).\n",
    "2. `ipyleaflet.WidgetControl` muncul di dua tempat."
   ]
  },
  {
   "cell_type": "code",
   "execution_count": null,
   "id": "23da50e4-fbb2-4a27-8e50-e8b9daae069d",
   "metadata": {},
   "outputs": [],
   "source": [
    "# ee.Authenticate()\n",
    "ee.Initialize()"
   ]
  },
  {
   "cell_type": "code",
   "execution_count": null,
   "id": "5daac1ec-06a6-4ab0-9811-5f73b15d0a27",
   "metadata": {},
   "outputs": [],
   "source": [
    "# geemap\n",
    "\n",
    "# widgets\n",
    "oid_selector = widgets.BoundedIntText(0,0,1000,1)\n",
    "class_assign = widgets.Dropdown(options = ['Forest','No-forest'],\n",
    "                                description = 'Class name:',\n",
    "                                value = None)\n",
    "\n",
    "# interact\n",
    "def filt_row(oid):\n",
    "    map = geemap.Map()\n",
    "    gdf_obj = gdf.loc[gdf['ID'] == oid]\n",
    "    ee_obj = geemap.geopandas_to_ee(gdf_obj)\n",
    "    map.addLayer(ee_obj)\n",
    "    # map.add_control(toolbar_ctrl)\n",
    "    map.centerObject(ee_obj, 10)\n",
    "    print('Selected ID: {}'.format(oid))\n",
    "    return map\n",
    "\n",
    "def assign_f(classname):\n",
    "    oid = oid_selector.value\n",
    "    gdf.loc[gdf['ID'] == oid, 'Class'] = classname\n",
    "\n",
    "widgets.interact(filt_row, oid = oid_selector)\n",
    "widgets.interact_manual(assign_f, classname = class_assign, gdf = widgets.fixed(gdf))"
   ]
  },
  {
   "cell_type": "code",
   "execution_count": null,
   "id": "94983584-b9ef-42a5-b828-7fc407950a11",
   "metadata": {},
   "outputs": [],
   "source": [
    "# ipyleaflet\n",
    "\n",
    "# widgets\n",
    "oid_selector = widgets.BoundedIntText(0,0,1000,1)\n",
    "class_assign = widgets.Dropdown(options = ['Forest','No-forest'],\n",
    "                                description = 'Class name:',\n",
    "                                value = None)\n",
    "toolbar_widget = widgets.VBox([oid_selector, class_assign])\n",
    "toolbar_control = WidgetControl(widget = toolbar_widget, position = \"topleft\")\n",
    "\n",
    "# interact\n",
    "def filt_row(oid):\n",
    "    m = ipyleaflet.Map()\n",
    "    gdf_obj = gdf.loc[gdf['ID'] == oid]\n",
    "    # ee_obj = geemap.geopandas_to_ee(gdf_obj)\n",
    "    geo_obj = ipyleaflet.GeoData(geo_dataframe = gdf_obj)\n",
    "    m.add_layer(geo_obj)\n",
    "    lonCent = (gdf_obj.bounds.maxx + gdf_obj.bounds.minx).mean()/2\n",
    "    latCent = (gdf_obj.bounds.maxy + gdf_obj.bounds.miny).mean()/2\n",
    "    m.center = (latCent,lonCent)\n",
    "    m.add_control(toolbar_control)\n",
    "    # map.centerObject(ee_obj, 10)\n",
    "    print('Selected ID: {}'.format(oid))\n",
    "    return m\n",
    "\n",
    "def assign_f(classname):\n",
    "    oid = oid_selector.value\n",
    "    gdf.loc[gdf['ID'] == oid, 'Class'] = classname\n",
    "\n",
    "widgets.interact(filt_row, oid = oid_selector)\n",
    "widgets.interact_manual(assign_f, classname = class_assign, gdf = widgets.fixed(gdf))"
   ]
  },
  {
   "cell_type": "code",
   "execution_count": null,
   "id": "858ab4b5-e0a9-4e0f-930b-cf0ad7d83208",
   "metadata": {},
   "outputs": [],
   "source": [
    "gdf.head()"
   ]
  },
  {
   "cell_type": "code",
   "execution_count": null,
   "id": "244fd714-a205-42c0-84b6-366293f20c69",
   "metadata": {},
   "outputs": [],
   "source": []
  }
 ],
 "metadata": {
  "kernelspec": {
   "name": "python3",
   "display_name": "Python 3.8.11 64-bit ('gee': conda)"
  },
  "language_info": {
   "codemirror_mode": {
    "name": "ipython",
    "version": 3
   },
   "file_extension": ".py",
   "mimetype": "text/x-python",
   "name": "python",
   "nbconvert_exporter": "python",
   "pygments_lexer": "ipython3",
   "version": "3.8.11"
  },
  "interpreter": {
   "hash": "3a58b3e75800a6524d5250ab9a8703d8b87ad2c78c9cf22d4923ae8bbaece9fb"
  }
 },
 "nbformat": 4,
 "nbformat_minor": 5
}