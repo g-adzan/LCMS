{
 "cells": [
  {
   "cell_type": "markdown",
   "id": "ed6bd805",
   "metadata": {},
   "source": [
    "# Aplikasi Sampling Penutup Lahan\n",
    "## Bagian 2. Sampling tool (versi 2)\n",
    "\n",
    "2021-08-18\n",
    "\n",
    "Tool untuk assign class pada setiap titik sampel. Perbaikan dari versi sebelumnya dengan menambah fitur `interact_manual` dan juga opsi untuk menggunakan `Dropdown` yang lebih praktis dalam proses pengisian atribut yang tidak dilakukan sekali jalan."
   ]
  },
  {
   "cell_type": "code",
   "execution_count": null,
   "id": "ae4069c2",
   "metadata": {},
   "outputs": [],
   "source": [
    "import geopandas\n",
    "from ipywidgets import widgets, interact, interactive, fixed, interact_manual\n",
    "from IPython.display import display, clear_output\n",
    "from ipyleaflet import WidgetControl\n",
    "import ee\n",
    "import geemap\n",
    "import numpy"
   ]
  },
  {
   "cell_type": "code",
   "execution_count": null,
   "id": "6c63b33c",
   "metadata": {
    "scrolled": true
   },
   "outputs": [],
   "source": [
    "# ee.Authenticate()"
   ]
  },
  {
   "cell_type": "code",
   "execution_count": null,
   "id": "47ee6018",
   "metadata": {},
   "outputs": [],
   "source": [
    "ee.Initialize()"
   ]
  },
  {
   "cell_type": "code",
   "execution_count": null,
   "id": "574f79b2",
   "metadata": {},
   "outputs": [],
   "source": [
    "gdf = geopandas.read_file('./samples/Aug-06-2021_Borneo_2016_stratifiedsamples_15_1000.shp')\n",
    "gdf['ID'] = numpy.arange(len(gdf))\n",
    "id_list = gdf['ID'].tolist()\n",
    "\n",
    "landsat = ee.Image('users/kfaisal/LCMS_Borneo_2016/L8_Borneo_2016_int')"
   ]
  },
  {
   "cell_type": "markdown",
   "id": "4df0516e-6c36-43ef-bf35-5c8428f31056",
   "metadata": {},
   "source": [
    "### using `widgets.BoundedIntText` to select ID\n",
    "\n",
    "Metode ini ideal digunakan untuk pengisian atribut secara kontinyu. Pengisian dilakukan **satu persatu** dan **berurutan**. Pemilihan objek dilakukan berdasarkan ID. Id bisa dipilih melalui widget `BoundedIntText` dengan meng-klik tombol up atau down ataupun dengan mengetikkan angka OID. Pengisian kelas dilakukan dengan memilih tipe penutup lahan pada dropdown list dan kemudian meng-klik `Run Interact` untuk meng-update perubahan pada file geodataframe. Jika `Run Interact` tidak di-klik, maka perubahan tidak akan terjadi. Ini fitur yang membedakan dengan versi sebelumnya.\n",
    "\n",
    "Isu: jika menggunakan `ipyleaflet.WidgetControl` untuk menampilkan toolbar pada badan peta, fitur `Run Interact` tidak muncul. Sehingga untuk sementara `ipyleaflet.WidgetControl` tidak digunakan yang membuat estetika GUI sedikit berkurang."
   ]
  },
  {
   "cell_type": "code",
   "execution_count": null,
   "id": "8a1076c5-b5d9-423e-8ea3-a8ff083a6fd1",
   "metadata": {},
   "outputs": [],
   "source": [
    "# widgets\n",
    "oid_selector = widgets.BoundedIntText(0,0,1000,1, description = 'Select ID')\n",
    "class_assign = widgets.Dropdown(options = ['Forest','No-forest'],\n",
    "                                description = 'Class name:',\n",
    "                                value = None)\n",
    "out = widgets.Output()\n",
    "toolbar_widget = widgets.VBox([class_assign, out, oid_selector])\n",
    "toolbar_ctrl = WidgetControl(widget = toolbar_widget, position = \"topleft\")\n",
    "\n",
    "# interact\n",
    "def filt_row(oid):\n",
    "    map = geemap.Map()\n",
    "    gdf_obj = gdf.loc[gdf['ID'] == oid]\n",
    "    ee_obj = geemap.geopandas_to_ee(gdf_obj)\n",
    "    map.addLayer(landsat, {'bands': ['B5','B6','B7'],\n",
    "                           'min': 40,\n",
    "                           'max': 4000},\n",
    "                'Landsat image')\n",
    "    map.addLayer(ee_obj)\n",
    "    # map.add_control(toolbar_ctrl)\n",
    "    map.centerObject(ee_obj, 10)\n",
    "    print('Selected ID: {}'.format(oid))\n",
    "    return map\n",
    "\n",
    "def assign_f(classname):\n",
    "    oid = oid_selector.value\n",
    "    gdf.loc[gdf['ID'] == oid, 'Class'] = classname\n",
    "    print(gdf.loc[gdf['ID'] == oid])\n",
    "\n",
    "widgets.interact_manual(assign_f, classname = class_assign, gdf = widgets.fixed(gdf))\n",
    "widgets.interact(filt_row, oid = oid_selector)\n",
    "# toolbar_wid = widgets.HBox([oid_selector, class_assign])\n",
    "# display(toolbar_wid)"
   ]
  },
  {
   "cell_type": "code",
   "execution_count": null,
   "id": "015dd0e5",
   "metadata": {
    "scrolled": true,
    "tags": []
   },
   "outputs": [],
   "source": [
    "# Cek hasil pengisian kelas\n",
    "gdf.head(25)"
   ]
  },
  {
   "cell_type": "markdown",
   "id": "1086b5be-cdda-47b9-9bd6-01c08f061e3f",
   "metadata": {},
   "source": [
    "### using `widgets.Dropdown` to select id\n",
    "\n",
    "Metode ini menggunakan `Widgets.Dropdown` untuk memilih ID objek yang akan di-edit. Metode ini lebih efisien dibandingkan dengan `widgets.BoundedIntText` yang mengurutkan satu demi satu. Pada metode ini yang ditampilkan adalah list ID. Ini akan memudahkan ketika nantinya editing dilakukan tidak dalam sekali jalan. Pada pengisian berikutnya, dapat di-filter ID mana saja yang belum diisi, dan jikapun ada ID yang terlewat pengisiannya sebelumnya tidak akan menjadi masalah karena ID tidak diurutkan n+1 tapi berdasarkan posisi row (indeks)."
   ]
  },
  {
   "cell_type": "code",
   "execution_count": null,
   "id": "a4b75395-5fdd-4c2f-b3cd-d2139f5e64b0",
   "metadata": {},
   "outputs": [],
   "source": [
    "# widgets\n",
    "oid_selector = widgets.Dropdown(options = id_list,\n",
    "                                description = 'Select ID:',\n",
    "                                value = id_list[0])\n",
    "class_assign = widgets.Dropdown(options = ['Forest','No-forest'],\n",
    "                                description = 'Class name:',\n",
    "                                value = None)\n",
    "\n",
    "# interact\n",
    "def filt_row(oid):\n",
    "    # map = geemap.Map()\n",
    "    gdf_obj = gdf.loc[gdf['ID'] == oid]\n",
    "    ee_obj = geemap.geopandas_to_ee(gdf_obj)\n",
    "    map.addLayer(landsat, {'bands': ['B5','B6','B7'],\n",
    "                           'min': 40,\n",
    "                           'max': 4000},\n",
    "                'Landsat image')\n",
    "    map.addLayer(ee_obj)\n",
    "    # map.add_control(toolbar_ctrl)\n",
    "    map.centerObject(ee_obj, 10)\n",
    "    print('Selected ID: {}'.format(oid))\n",
    "    return map\n",
    "\n",
    "def assign_f(classname):\n",
    "    oid = oid_selector.value\n",
    "    gdf.loc[gdf['ID'] == oid, 'Class'] = classname\n",
    "    print(gdf.loc[gdf['ID'] == oid])\n",
    "\n",
    "widgets.interact_manual(assign_f, classname = class_assign, gdf = widgets.fixed(gdf))\n",
    "widgets.interact(filt_row, oid = oid_selector)"
   ]
  },
  {
   "cell_type": "code",
   "execution_count": null,
   "id": "39e72cb2-a78b-4ac8-95a6-6c23af88c0d4",
   "metadata": {},
   "outputs": [],
   "source": [
    "gdf.head(25)"
   ]
  },
  {
   "cell_type": "code",
   "execution_count": null,
   "id": "bbd8ee94-fc2d-48a1-9702-2f4f08f2c9f2",
   "metadata": {},
   "outputs": [],
   "source": [
    "# export current results\n",
    "from datetime import date\n",
    "today = date.today()\n",
    "todaydate = today.strftime(\"%b-%d-%Y\")\n",
    "exportName = 'Borneo'\n",
    "suffix = 'v1'\n",
    "\n",
    "gdf.to_file('./temp_results/' + todaydate + '_samples_' + exportName + '_' + suffix + '.shp')"
   ]
  },
  {
   "cell_type": "markdown",
   "id": "8071e023-be30-4d4d-a56e-de02b5ef24ad",
   "metadata": {},
   "source": [
    "## Melanjutkan proses editing"
   ]
  },
  {
   "cell_type": "code",
   "execution_count": null,
   "id": "6ef0f8fd-ebd2-4541-b0c8-d29b41f196b1",
   "metadata": {},
   "outputs": [],
   "source": [
    "# memanggil file hasil pengisian kelas yang telah dilakukan sebelumnya\n",
    "gdf_v1 = geopandas.read_file('./temp_results/Aug-22-2021_samples_Borneo_v1.shp')\n",
    "\n",
    "# filter rows yang belum diisi kelasnya\n",
    "filt_gdf_v1 = gdf_v1[gdf_v1['Class'].isna()] \n",
    "filt_id_list = filt_gdf_v1['ID'].tolist()\n",
    "filt_gdf_v1.head()"
   ]
  },
  {
   "cell_type": "code",
   "execution_count": null,
   "id": "5e43b5b3-8756-4851-93ba-8cc46f97dbd7",
   "metadata": {},
   "outputs": [],
   "source": [
    "# widgets\n",
    "oid_selector = widgets.Dropdown(options = filt_id_list,\n",
    "                                description = 'Select ID:',\n",
    "                                value = filt_id_list[0])\n",
    "class_assign = widgets.Dropdown(options = ['Forest','No-forest'],\n",
    "                                description = 'Class name:',\n",
    "                                value = None)\n",
    "\n",
    "# interact\n",
    "def filt_row(oid):\n",
    "    map = geemap.Map()\n",
    "    gdf_obj = gdf.loc[gdf['ID'] == oid]\n",
    "    ee_obj = geemap.geopandas_to_ee(gdf_obj)\n",
    "    map.addLayer(landsat, {'bands': ['B5','B6','B7'],\n",
    "                           'min': 40,\n",
    "                           'max': 4000},\n",
    "                'Landsat image')\n",
    "    map.addLayer(ee_obj)\n",
    "    # map.add_control(toolbar_ctrl)\n",
    "    map.centerObject(ee_obj, 10)\n",
    "    print('Selected ID: {}'.format(oid))\n",
    "    return map\n",
    "\n",
    "def assign_f(classname):\n",
    "    oid = oid_selector.value\n",
    "    gdf.loc[gdf['ID'] == oid, 'Class'] = classname\n",
    "    print(gdf.loc[gdf['ID'] == oid])\n",
    "\n",
    "widgets.interact_manual(assign_f, classname = class_assign, gdf = widgets.fixed(gdf))\n",
    "widgets.interact(filt_row, oid = oid_selector)"
   ]
  },
  {
   "cell_type": "code",
   "execution_count": null,
   "id": "db6452f9-62ce-4655-beea-b23db3997f11",
   "metadata": {},
   "outputs": [],
   "source": [
    "gdf.head()"
   ]
  },
  {
   "cell_type": "code",
   "execution_count": null,
   "id": "99bbb5f8-9b98-4f4c-8263-5e06504697f8",
   "metadata": {},
   "outputs": [],
   "source": [
    "# export current results\n",
    "from datetime import date\n",
    "today = date.today()\n",
    "todaydate = today.strftime(\"%b-%d-%Y\")\n",
    "exportName = 'Borneo'\n",
    "suffix = 'v2'\n",
    "\n",
    "gdf.to_file('./temp_results/' + todaydate + '_samples_' + exportName + '_' + suffix + '.shp')"
   ]
  },
  {
   "cell_type": "code",
   "execution_count": null,
   "id": "ea87e6bd-76a7-4f0d-bf80-7b30c149b6bd",
   "metadata": {},
   "outputs": [],
   "source": [
    "# Export to Asset, later used as machine-learning classification input in GEE\n",
    "from datetime import date\n",
    "today = date.today()\n",
    "todaydate = today.strftime(\"%b-%d-%Y\")\n",
    "\n",
    "# define output file name\n",
    "exportName = 'Borneo'\n",
    "\n",
    "# Convert geodataframe to ee object\n",
    "ee_export = geemap.geopandas_to_ee(randsamp)\n",
    "\n",
    "exportTask = ee.batch.Export.table.toAsset(\n",
    "    collection = ee_export,\n",
    "    description = todaydate + '_' + exportName + '_forestCoverSamples',\n",
    "    assetId = 'users/gemasaktiadzan/2021-08-08_Borneo_forestCoverSamples')\n",
    "exportTask.start()"
   ]
  }
 ],
 "metadata": {
  "kernelspec": {
   "display_name": "Python 3 (ipykernel)",
   "language": "python",
   "name": "python3"
  },
  "language_info": {
   "codemirror_mode": {
    "name": "ipython",
    "version": 3
   },
   "file_extension": ".py",
   "mimetype": "text/x-python",
   "name": "python",
   "nbconvert_exporter": "python",
   "pygments_lexer": "ipython3",
   "version": "3.8.11"
  }
 },
 "nbformat": 4,
 "nbformat_minor": 5
}
